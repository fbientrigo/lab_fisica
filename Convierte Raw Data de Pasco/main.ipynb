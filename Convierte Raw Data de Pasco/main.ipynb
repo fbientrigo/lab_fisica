{
 "cells": [
  {
   "cell_type": "code",
   "execution_count": 8,
   "metadata": {},
   "outputs": [],
   "source": [
    "import numpy as np\n",
    "import matplotlib.pyplot as plt\n",
    "import pandas as pd\n",
    "import os"
   ]
  },
  {
   "cell_type": "code",
   "execution_count": 48,
   "metadata": {},
   "outputs": [],
   "source": [
    "import os\n",
    "os.path\n",
    "\n",
    "# lista todos los contenidos en una carpeta\n",
    "def listar_ficheros(directory_name):\n",
    "    file_list = os.listdir(directory_name)\n",
    "    #print(file_list)\n",
    "    lista2 = []\n",
    "    for file_name in file_list:\n",
    "        lista2.append(os.path.join(directory_name, file_name))\n",
    "    return lista2, file_list\n",
    "\n",
    "# Elimina la primera linea de los ficheros, que es basura\n",
    "def pop(file):\n",
    "    with open(file, 'r+') as f: # open file in read / write mode\n",
    "        firstLine = f.readline() # read the first line and throw it out\n",
    "        data = f.read() # read the rest\n",
    "        f.seek(0) # set the cursor to the top of the file\n",
    "        f.write(data) # write the data back\n",
    "        f.truncate() # set the file size to the current size\n",
    "        return firstLine\n",
    "\n",
    "def save(file_name, data):\n",
    "    with open(file_name, \"w\") as f:\n",
    "        if type(data) == list:\n",
    "            for line in data:\n",
    "                f.write(line)\n",
    "        else:\n",
    "            f.write(data)\n",
    "\n",
    "def readfrom(file_name, line=1):\n",
    "    \"\"\" comeinza a leer desde la segunda linea \"\"\"\n",
    "    with open(file_name, \"r\") as f:\n",
    "        rows = f.readlines()[line:]\n",
    "    return rows"
   ]
  },
  {
   "cell_type": "code",
   "execution_count": 49,
   "metadata": {},
   "outputs": [],
   "source": [
    "origen_rel_path = \"../Datos Lab4/0930 Difraccion 1/Data cruda/\" \n",
    "output_rel_path = \"../Datos Lab4/0930 Difraccion 1/Data trabajada/\" \n",
    "nombres_ficheros, ficheros = listar_ficheros(origen_rel_path)\n",
    "\n",
    "readfrom(nombres_ficheros[0],0)\n",
    "\n",
    "for idx, nomfich in enumerate(nombres_ficheros):\n",
    "    data = readfrom(nomfich)\n",
    "    save(output_rel_path + ficheros[idx],data)"
   ]
  },
  {
   "cell_type": "code",
   "execution_count": 17,
   "metadata": {},
   "outputs": [
    {
     "data": {
      "text/plain": [
       "'Serie N.Âº 1\\tSerie N.Âº 1\\tSerie N.Âº 1\\tSerie N.Âº 1\\tSerie N.Âº 1\\tSerie N.Âº 1\\tSerie N.Âº 1\\tSerie N.Âº 1\\n'"
      ]
     },
     "execution_count": 17,
     "metadata": {},
     "output_type": "execute_result"
    }
   ],
   "source": []
  },
  {
   "cell_type": "code",
   "execution_count": null,
   "metadata": {},
   "outputs": [],
   "source": []
  }
 ],
 "metadata": {
  "kernelspec": {
   "display_name": "Python 3.10.2 64-bit",
   "language": "python",
   "name": "python3"
  },
  "language_info": {
   "codemirror_mode": {
    "name": "ipython",
    "version": 3
   },
   "file_extension": ".py",
   "mimetype": "text/x-python",
   "name": "python",
   "nbconvert_exporter": "python",
   "pygments_lexer": "ipython3",
   "version": "3.10.2"
  },
  "orig_nbformat": 4,
  "vscode": {
   "interpreter": {
    "hash": "262aef1f8cb16a96407fb15c56c6474d16e993b7786012fac2c0b390824d7730"
   }
  }
 },
 "nbformat": 4,
 "nbformat_minor": 2
}
