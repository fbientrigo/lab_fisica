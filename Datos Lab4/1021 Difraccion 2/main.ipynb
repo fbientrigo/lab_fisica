{
 "cells": [
  {
   "cell_type": "markdown",
   "metadata": {},
   "source": [
    "# Determinacion Constnte de Rydberg"
   ]
  },
  {
   "cell_type": "code",
   "execution_count": 4,
   "metadata": {},
   "outputs": [],
   "source": [
    "import numpy as np\n",
    "import pandas as pd\n",
    "import matplotlib.pyplot as plt\n",
    "\n",
    "df = pd.read_csv('hidrogeno.csv')"
   ]
  },
  {
   "cell_type": "markdown",
   "metadata": {},
   "source": [
    "# Calculo de $\\lambda$\n"
   ]
  },
  {
   "cell_type": "code",
   "execution_count": 5,
   "metadata": {},
   "outputs": [],
   "source": [
    "grad =  np.pi/180\n",
    "np.sin(90 * grad)\n",
    "\n",
    "lpm = 600000 # 6000 lin / cm = 600000 lin / "
   ]
  },
  {
   "cell_type": "code",
   "execution_count": 7,
   "metadata": {},
   "outputs": [],
   "source": [
    "def lambdda(m, ang, bias = 0):\n",
    "    \"\"\"\n",
    "    ang: angulo en grados\n",
    "    m: orden\n",
    "    asume bias hacia la izquierda, osea que si tengo 2 grados de bias, al medir \n",
    "    2 grados hacia la derecha, estoy midiendo 0\n",
    "    \"\"\"\n",
    "\n",
    "    d = 1/lpm\n",
    "    lam= d*np.sin(np.abs(ang - bias)* np.pi/180)/m\n",
    "    print(str(lam * 10**9) + \" [nm]\")\n",
    "    return lam * 10**9"
   ]
  },
  {
   "cell_type": "code",
   "execution_count": 9,
   "metadata": {},
   "outputs": [],
   "source": [
    "df['promedio'] = (df['theta_der'] + df['theta_izq'])/2"
   ]
  },
  {
   "cell_type": "code",
   "execution_count": 24,
   "metadata": {},
   "outputs": [
    {
     "name": "stdout",
     "output_type": "stream",
     "text": [
      "0    421.522913\n",
      "1    443.995580\n",
      "2    499.789017\n",
      "3    669.912961\n",
      "Name: promedio, dtype: float64 [nm]\n",
      "4    439.129830\n",
      "5    493.930215\n",
      "6    669.880717\n",
      "Name: promedio, dtype: float64 [nm]\n"
     ]
    }
   ],
   "source": [
    "for orden in [1,2]:\n",
    "    df['lambda'] = lambdda(orden,df[df['orden']==orden]['promedio'])"
   ]
  },
  {
   "cell_type": "code",
   "execution_count": 21,
   "metadata": {},
   "outputs": [],
   "source": [
    "df['color'] = ['violeta','violeta', 'celeste', 'rojo','violeta','celeste','rojo']"
   ]
  },
  {
   "cell_type": "code",
   "execution_count": 22,
   "metadata": {},
   "outputs": [
    {
     "data": {
      "text/html": [
       "<div>\n",
       "<style scoped>\n",
       "    .dataframe tbody tr th:only-of-type {\n",
       "        vertical-align: middle;\n",
       "    }\n",
       "\n",
       "    .dataframe tbody tr th {\n",
       "        vertical-align: top;\n",
       "    }\n",
       "\n",
       "    .dataframe thead th {\n",
       "        text-align: right;\n",
       "    }\n",
       "</style>\n",
       "<table border=\"1\" class=\"dataframe\">\n",
       "  <thead>\n",
       "    <tr style=\"text-align: right;\">\n",
       "      <th></th>\n",
       "      <th>theta_der</th>\n",
       "      <th>theta_izq</th>\n",
       "      <th>orden</th>\n",
       "      <th>promedio</th>\n",
       "      <th>lambda</th>\n",
       "      <th>color</th>\n",
       "    </tr>\n",
       "  </thead>\n",
       "  <tbody>\n",
       "    <tr>\n",
       "      <th>0</th>\n",
       "      <td>14.4</td>\n",
       "      <td>14.9</td>\n",
       "      <td>1</td>\n",
       "      <td>14.65</td>\n",
       "      <td>421.522913</td>\n",
       "      <td>violeta</td>\n",
       "    </tr>\n",
       "    <tr>\n",
       "      <th>1</th>\n",
       "      <td>15.4</td>\n",
       "      <td>15.5</td>\n",
       "      <td>1</td>\n",
       "      <td>15.45</td>\n",
       "      <td>443.995580</td>\n",
       "      <td>violeta</td>\n",
       "    </tr>\n",
       "    <tr>\n",
       "      <th>2</th>\n",
       "      <td>17.4</td>\n",
       "      <td>17.5</td>\n",
       "      <td>1</td>\n",
       "      <td>17.45</td>\n",
       "      <td>499.789017</td>\n",
       "      <td>celeste</td>\n",
       "    </tr>\n",
       "    <tr>\n",
       "      <th>3</th>\n",
       "      <td>23.4</td>\n",
       "      <td>24.0</td>\n",
       "      <td>1</td>\n",
       "      <td>23.70</td>\n",
       "      <td>669.912961</td>\n",
       "      <td>rojo</td>\n",
       "    </tr>\n",
       "    <tr>\n",
       "      <th>4</th>\n",
       "      <td>31.9</td>\n",
       "      <td>31.7</td>\n",
       "      <td>2</td>\n",
       "      <td>31.80</td>\n",
       "      <td>NaN</td>\n",
       "      <td>violeta</td>\n",
       "    </tr>\n",
       "    <tr>\n",
       "      <th>5</th>\n",
       "      <td>36.2</td>\n",
       "      <td>36.5</td>\n",
       "      <td>2</td>\n",
       "      <td>36.35</td>\n",
       "      <td>NaN</td>\n",
       "      <td>celeste</td>\n",
       "    </tr>\n",
       "    <tr>\n",
       "      <th>6</th>\n",
       "      <td>53.4</td>\n",
       "      <td>53.6</td>\n",
       "      <td>2</td>\n",
       "      <td>53.50</td>\n",
       "      <td>NaN</td>\n",
       "      <td>rojo</td>\n",
       "    </tr>\n",
       "  </tbody>\n",
       "</table>\n",
       "</div>"
      ],
      "text/plain": [
       "   theta_der  theta_izq  orden  promedio      lambda    color\n",
       "0       14.4       14.9      1     14.65  421.522913  violeta\n",
       "1       15.4       15.5      1     15.45  443.995580  violeta\n",
       "2       17.4       17.5      1     17.45  499.789017  celeste\n",
       "3       23.4       24.0      1     23.70  669.912961     rojo\n",
       "4       31.9       31.7      2     31.80         NaN  violeta\n",
       "5       36.2       36.5      2     36.35         NaN  celeste\n",
       "6       53.4       53.6      2     53.50         NaN     rojo"
      ]
     },
     "execution_count": 22,
     "metadata": {},
     "output_type": "execute_result"
    }
   ],
   "source": [
    "df"
   ]
  },
  {
   "cell_type": "code",
   "execution_count": 23,
   "metadata": {},
   "outputs": [],
   "source": [
    "df.to_csv('hidrogeno_lambdas.csv')"
   ]
  },
  {
   "cell_type": "markdown",
   "metadata": {},
   "source": [
    "# Calcula $R_H$\n",
    "Serie de Balmer inversa\n",
    "\n",
    "$$\n",
    "\\frac{1}{\\lambda} = R_H  (\\frac{1}{2^2} - \\frac{1}{n^2})\n",
    "$$\n",
    "\n",
    "$$\n",
    "R_H = \\frac{1}{\\lambda} (\\frac{4 n ^2}{n^2 - 4})\n",
    "$$"
   ]
  },
  {
   "cell_type": "code",
   "execution_count": 2,
   "metadata": {},
   "outputs": [],
   "source": [
    "# serie de balmer\n",
    "def Rh(lambdad, n):\n",
    "    return (4*n*n)/(lambdad * (n*n - 4))"
   ]
  },
  {
   "cell_type": "code",
   "execution_count": null,
   "metadata": {},
   "outputs": [],
   "source": [
    "Rh()"
   ]
  },
  {
   "cell_type": "code",
   "execution_count": null,
   "metadata": {},
   "outputs": [],
   "source": []
  }
 ],
 "metadata": {
  "kernelspec": {
   "display_name": "Python 3.10.2 64-bit",
   "language": "python",
   "name": "python3"
  },
  "language_info": {
   "codemirror_mode": {
    "name": "ipython",
    "version": 3
   },
   "file_extension": ".py",
   "mimetype": "text/x-python",
   "name": "python",
   "nbconvert_exporter": "python",
   "pygments_lexer": "ipython3",
   "version": "3.10.2"
  },
  "orig_nbformat": 4,
  "vscode": {
   "interpreter": {
    "hash": "262aef1f8cb16a96407fb15c56c6474d16e993b7786012fac2c0b390824d7730"
   }
  }
 },
 "nbformat": 4,
 "nbformat_minor": 2
}
