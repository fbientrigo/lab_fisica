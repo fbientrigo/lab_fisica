{
 "cells": [
  {
   "cell_type": "markdown",
   "metadata": {},
   "source": [
    "# Building Process\n",
    "Este es un Notebook que se utilizo para crear los otros archivos .py\n",
    "osea experimentar y crear la base"
   ]
  },
  {
   "cell_type": "code",
   "execution_count": 31,
   "metadata": {},
   "outputs": [],
   "source": [
    "from sympy import *\n",
    "import convenios\n",
    "from funciones import *\n",
    "import numpy as np\n",
    "init_printing(use_unicode=True)"
   ]
  },
  {
   "cell_type": "markdown",
   "metadata": {},
   "source": [
    "### simbolos(\"x,y,z\")\n",
    "    separa por espacio los nombres de tus variables\n"
   ]
  },
  {
   "cell_type": "code",
   "execution_count": 4,
   "metadata": {},
   "outputs": [
    {
     "name": "stdout",
     "output_type": "stream",
     "text": [
      "variables creadas con exito\n"
     ]
    }
   ],
   "source": [
    "XX = simbolos(\"x, y, z\")"
   ]
  },
  {
   "cell_type": "code",
   "execution_count": 5,
   "metadata": {},
   "outputs": [
    {
     "data": {
      "image/png": "[encoded data removed]",
      "text/latex": [
       "$\\displaystyle x^{2} + x + y z$"
      ],
      "text/plain": [
       " 2          \n",
       "x  + x + y⋅z"
      ]
     },
     "execution_count": 5,
     "metadata": {},
     "output_type": "execute_result"
    }
   ],
   "source": [
    "expr = XX[0]**2 + XX[0]*1 + XX[1]*XX[2]\n",
    "#podemos ver la expresion con LaTex aqui\n",
    "expr"
   ]
  },
  {
   "cell_type": "code",
   "execution_count": 6,
   "metadata": {},
   "outputs": [
    {
     "data": {
      "image/png": "[encoded data removed]",
      "text/latex": [
       "$\\displaystyle \\left[ 2 x + 1, \\  z, \\  y\\right]$"
      ],
      "text/plain": [
       "[2⋅x + 1, z, y]"
      ]
     },
     "execution_count": 6,
     "metadata": {},
     "output_type": "execute_result"
    }
   ],
   "source": [
    "dels = derivadas(expr, XX)\n",
    "dels"
   ]
  },
  {
   "cell_type": "code",
   "execution_count": 7,
   "metadata": {},
   "outputs": [
    {
     "data": {
      "image/png": "[encoded data removed]",
      "text/latex": [
       "$\\displaystyle \\left[ 3, \\  6, \\  2\\right]$"
      ],
      "text/plain": [
       "[3, 6, 2]"
      ]
     },
     "execution_count": 7,
     "metadata": {},
     "output_type": "execute_result"
    }
   ],
   "source": [
    "[dd.subs([ ( XX[0] ,1),( XX[1] ,2),( XX[2] ,6) ]) for dd in dels ]\n",
    "  \n"
   ]
  },
  {
   "cell_type": "markdown",
   "metadata": {},
   "source": [
    "Crear la substitucion\n",
    "el formato para que entre en la funcion\n",
    "```\n",
    "substituciones = [ ( XX[0] ,1),( XX[1] ,2),( XX[2] ,6) ]\n",
    "```\n",
    "Se usara\n",
    "```\n",
    "expresion.subs(substituciones)\n",
    "```"
   ]
  },
  {
   "cell_type": "code",
   "execution_count": 8,
   "metadata": {},
   "outputs": [],
   "source": [
    "def sub_lista( XX, XX0 ):\n",
    "    # Lista de  Subs\n",
    "    # el formato es\n",
    "    # [(x,x0),(y,y0),...]\n",
    "    return list(zip(XX, XX0))\n",
    "\n"
   ]
  },
  {
   "cell_type": "code",
   "execution_count": 9,
   "metadata": {},
   "outputs": [],
   "source": [
    "mediciones = [1,2,3]\n",
    "substituir = sub_lista(XX,mediciones )"
   ]
  },
  {
   "cell_type": "code",
   "execution_count": 12,
   "metadata": {},
   "outputs": [
    {
     "data": {
      "image/png": "[encoded data removed]",
      "text/latex": [
       "$\\displaystyle \\left[ \\left( 1, \\  4\\right), \\  \\left( 2, \\  5\\right), \\  \\left( 3, \\  6\\right)\\right]$"
      ],
      "text/plain": [
       "[(1, 4), (2, 5), (3, 6)]"
      ]
     },
     "execution_count": 12,
     "metadata": {},
     "output_type": "execute_result"
    }
   ],
   "source": [
    "list(zip([1,2,3], [4,5,6]))"
   ]
  },
  {
   "cell_type": "markdown",
   "metadata": {},
   "source": [
    "# Reemplazar las mediciones\n",
    "Utilizar la reglas de expresiones de la funcion anterior"
   ]
  },
  {
   "cell_type": "code",
   "execution_count": 13,
   "metadata": {},
   "outputs": [],
   "source": [
    "def subrule(expresion, substitucion):\n",
    "    return [exp.subs(substitucion) for exp in expresion]"
   ]
  },
  {
   "cell_type": "code",
   "execution_count": 14,
   "metadata": {},
   "outputs": [
    {
     "data": {
      "image/png": "[encoded data removed]",
      "text/latex": [
       "$\\displaystyle \\left[ 3, \\  3, \\  2\\right]$"
      ],
      "text/plain": [
       "[3, 3, 2]"
      ]
     },
     "execution_count": 14,
     "metadata": {},
     "output_type": "execute_result"
    }
   ],
   "source": [
    "diF = subrule(dels, substituir)\n",
    "diF"
   ]
  },
  {
   "cell_type": "markdown",
   "metadata": {},
   "source": [
    "# Utilizar un convenio de Lab\n",
    "en este caso\n",
    "$$\n",
    "\\Delta F = \\sqrt{ \\sum_i(\\partial_i F \\; \\Delta x_i)^2  }\n",
    "$$"
   ]
  },
  {
   "cell_type": "code",
   "execution_count": 41,
   "metadata": {},
   "outputs": [],
   "source": [
    "errores = [0.1 , 0.2, 0.05] #igual al numero de vars\n",
    "\n",
    "def error_cuadrado_uv(diF, errores, sqrt = True):\n",
    "    \"\"\"\n",
    "    \\Delta F = \\sqrt{ \\sum_i(\\partial_i F \\; \\Delta x_i)^2  }\n",
    "    \"\"\"\n",
    "    elementoi = []\n",
    "    for idx, element in enumerate(diF):\n",
    "        elementoi.append( element* errores[idx] * element * errores[idx] )\n",
    "    E2 = sum(elementoi)\n",
    "    if sqrt == True:\n",
    "        return np.sqrt( float(E2) )\n",
    "    else:\n",
    "        return E2\n",
    "    \n"
   ]
  },
  {
   "cell_type": "code",
   "execution_count": 42,
   "metadata": {},
   "outputs": [
    {
     "data": {
      "image/png": "[encoded data removed]",
      "text/latex": [
       "$\\displaystyle 0.6782329983125269$"
      ],
      "text/plain": [
       "0.6782329983125269"
      ]
     },
     "execution_count": 42,
     "metadata": {},
     "output_type": "execute_result"
    }
   ],
   "source": [
    "EE = error_cuadrado_uv(diF, errores)\n",
    "EE"
   ]
  },
  {
   "cell_type": "code",
   "execution_count": 37,
   "metadata": {},
   "outputs": [
    {
     "data": {
      "image/png": "[encoded data removed]",
      "text/latex": [
       "$\\displaystyle 1.4142135623730951$"
      ],
      "text/plain": [
       "1.4142135623730951"
      ]
     },
     "execution_count": 37,
     "metadata": {},
     "output_type": "execute_result"
    }
   ],
   "source": [
    "np.sqrt(2)"
   ]
  },
  {
   "cell_type": "code",
   "execution_count": null,
   "metadata": {},
   "outputs": [],
   "source": []
  }
 ],
 "metadata": {
  "kernelspec": {
   "display_name": "Python 3.10.2 64-bit",
   "language": "python",
   "name": "python3"
  },
  "language_info": {
   "codemirror_mode": {
    "name": "ipython",
    "version": 3
   },
   "file_extension": ".py",
   "mimetype": "text/x-python",
   "name": "python",
   "nbconvert_exporter": "python",
   "pygments_lexer": "ipython3",
   "version": "3.10.2"
  },
  "orig_nbformat": 4,
  "vscode": {
   "interpreter": {
    "hash": "262aef1f8cb16a96407fb15c56c6474d16e993b7786012fac2c0b390824d7730"
   }
  }
 },
 "nbformat": 4,
 "nbformat_minor": 2
}
