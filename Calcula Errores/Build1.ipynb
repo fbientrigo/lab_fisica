{
    "cells": [
        {
            "cell_type": "markdown",
            "metadata": {},
            "source": [
                "# Producto Minimo Viable\n",
                "Este jupyter utiliza las bases interactivas del programa, el programa ``` main.py``` se basa en este notebook"
            ]
        },
        {
            "cell_type": "code",
            "execution_count": 1,
            "metadata": {},
            "outputs": [
                {
                    "name": "stdout",
                    "output_type": "stream",
                    "text": [
                        "funciones para labs, usa help() para averiguar mas o funciones.help()\n"
                    ]
                }
            ],
            "source": [
                "import convenios as cn\n",
                "import funciones as fn"
            ]
        },
        {
            "cell_type": "code",
            "execution_count": 2,
            "metadata": {},
            "outputs": [
                {
                    "name": "stdout",
                    "output_type": "stream",
                    "text": [
                        "\n",
                        "    import funciones as fn\n",
                        "    > XX = fn.simbolos(\"x,y,z\")\n",
                        "    or >> x, y, z = XX\n",
                        "    > mediciones = #mediciones para cada variable\n",
                        "    > expresionn = F(XX[0], XX[1]) #crear funcion\n",
                        "    or >> expresion = F(x,y,z)\n",
                        "\n",
                        "    #camino explicito\n",
                        "    > dels = fn.derivada(expresion, variables)\n",
                        "    > substitucion = sub_lista(variables, mediciones) #[(x,1),..]\n",
                        "    > delsx0 =  subrule(expresion, substitucion)\n",
                        "\n",
                        "\n",
                        "    # camino modulado\n",
                        "    > delsx0 = derivada_en_xo(expresion, variables, mediciones)\n",
                        "\n",
                        "    # luego utilizamos el convenio\n",
                        "    > convenio.ejemplo(delsx0, errores)\n",
                        "    \n"
                    ]
                }
            ],
            "source": [
                "# esot msotrara las funciones usables: fn.help()\n",
                "fn.help()"
            ]
        },
        {
            "cell_type": "code",
            "execution_count": 16,
            "metadata": {},
            "outputs": [],
            "source": [
                "# Caso Mediana\n",
                "variables = fn.simbolos(\"B, R, V\")\n",
                "B, R, V = variables\n",
                "expresion = 2*V/(B*B*R*R)\n",
                "\n",
                "# B , R, V , caso mediana\n",
                "mediciones = [0.00102816,0.025,110]\n",
                "errores = [7.64 * 10**(-6),0.005, 20]\n",
                "\n",
                "df_dx0 = fn.derivada_en_xo(expresion, variables, mediciones)"
            ]
        },
        {
            "cell_type": "code",
            "execution_count": 17,
            "metadata": {},
            "outputs": [
                {
                    "data": {
                        "text/plain": [
                            "[-647724832732539., -26638590560891.5, 3027112563.73767]"
                        ]
                    },
                    "execution_count": 17,
                    "metadata": {},
                    "output_type": "execute_result"
                }
            ],
            "source": [
                "df_dx0"
            ]
        },
        {
            "cell_type": "code",
            "execution_count": 18,
            "metadata": {},
            "outputs": [
                {
                    "name": "stdout",
                    "output_type": "stream",
                    "text": [
                        "1.4639062703446928\n"
                    ]
                }
            ],
            "source": [
                "# usando convenios\n",
                "delta = cn.error_cuadrado_uv(df_dx0, errores, sqrt=True) / 10**11\n",
                "\n",
                "# 2.73 \\times 10^{11}\n",
                "\n",
                "print(delta)"
            ]
        },
        {
            "cell_type": "code",
            "execution_count": 21,
            "metadata": {},
            "outputs": [
                {
                    "data": {
                        "text/plain": [
                            "0.8317649263322118"
                        ]
                    },
                    "execution_count": 21,
                    "metadata": {},
                    "output_type": "execute_result"
                }
            ],
            "source": [
                "# error predice porcentaje de:\n",
                "( delta/1.76 )"
            ]
        },
        {
            "cell_type": "code",
            "execution_count": 20,
            "metadata": {},
            "outputs": [
                {
                    "data": {
                        "text/plain": [
                            "0.5909090909090908"
                        ]
                    },
                    "execution_count": 20,
                    "metadata": {},
                    "output_type": "execute_result"
                }
            ],
            "source": [
                "(2.8 - 1.76)/1.76"
            ]
        },
        {
            "cell_type": "code",
            "execution_count": 5,
            "metadata": {},
            "outputs": [
                {
                    "data": {
                        "text/plain": [
                            "2018931854086.7498"
                        ]
                    },
                    "execution_count": 5,
                    "metadata": {},
                    "output_type": "execute_result"
                }
            ],
            "source": [
                "# B , R, V , caso Maximo\n",
                "mediciones = [0.000653616,0.015,290]\n",
                "errores = [7.64 * 10**(-6),2.5 * 10**(-3),5]\n",
                "\n",
                "df_dx0 = fn.derivada_en_xo(expresion, variables, mediciones)\n",
                "cn.error_cuadrado_uv(df_dx0, errores, sqrt=True)"
            ]
        },
        {
            "cell_type": "code",
            "execution_count": null,
            "metadata": {},
            "outputs": [],
            "source": []
        }
    ],
    "metadata": {
        "kernelspec": {
            "display_name": "Python 3.10.2 64-bit",
            "language": "python",
            "name": "python3"
        },
        "language_info": {
            "codemirror_mode": {
                "name": "ipython",
                "version": 3
            },
            "file_extension": ".py",
            "mimetype": "text/x-python",
            "name": "python",
            "nbconvert_exporter": "python",
            "pygments_lexer": "ipython3",
            "version": "3.10.2"
        },
        "orig_nbformat": 4,
        "vscode": {
            "interpreter": {
                "hash": "262aef1f8cb16a96407fb15c56c6474d16e993b7786012fac2c0b390824d7730"
            }
        }
    },
    "nbformat": 4,
    "nbformat_minor": 2
}
