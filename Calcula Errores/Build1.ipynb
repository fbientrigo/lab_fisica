{
    "cells": [
        {
            "cell_type": "markdown",
            "source": [
                "# Producto Minimo Viable\r\n",
                "Este jupyter utiliza las bases interactivas del programa, el programa ``` main.py``` se basa en este notebook"
            ],
            "metadata": {}
        },
        {
            "cell_type": "code",
            "execution_count": 1,
            "source": [
                "import convenios as cn\r\n",
                "import funciones as fn"
            ],
            "outputs": [
                {
                    "output_type": "stream",
                    "name": "stdout",
                    "text": [
                        "funciones para labs, usa help() para averiguar mas o funciones.help()\n"
                    ]
                }
            ],
            "metadata": {}
        },
        {
            "cell_type": "code",
            "execution_count": 2,
            "source": [
                "# esot msotrara las funciones usables: fn.help()\r\n",
                "fn.help()"
            ],
            "outputs": [
                {
                    "output_type": "stream",
                    "name": "stdout",
                    "text": [
                        "\n",
                        "    import funciones as fn\n",
                        "    > XX = fn.simbolos(\"x,y,z\")\n",
                        "    or >> x, y, z = XX\n",
                        "    > mediciones = #mediciones para cada variable\n",
                        "    > expresionn = F(XX[0], XX[1]) #crear funcion\n",
                        "    or >> expresion = F(x,y,z)\n",
                        "\n",
                        "    #camino explicito\n",
                        "    > dels = fn.derivada(expresion, variables)\n",
                        "    > substitucion = sub_lista(variables, mediciones) #[(x,1),..]\n",
                        "    > delsx0 =  subrule(expresion, substitucion)\n",
                        "\n",
                        "\n",
                        "    # camino modulado\n",
                        "    > delsx0 = derivada_en_xo(expresion, variables, mediciones)\n",
                        "\n",
                        "    # luego utilizamos el convenio\n",
                        "    > convenio.ejemplo(delsx0, errores)\n",
                        "    \n"
                    ]
                }
            ],
            "metadata": {}
        },
        {
            "cell_type": "code",
            "execution_count": 7,
            "source": [
                "variables = fn.simbolos(\"x,y,z\")\r\n",
                "x,y,z = variables\r\n",
                "expresion = x * y + z\r\n",
                "\r\n",
                "mediciones = [1,2, 3]\r\n",
                "errores = [0.01, 0.01, 0.1]\r\n",
                "\r\n",
                "df_dx0 = fn.derivada_en_xo(expresion, variables, mediciones)"
            ],
            "outputs": [
                {
                    "output_type": "stream",
                    "name": "stdout",
                    "text": [
                        "variables creadas con exito\n"
                    ]
                }
            ],
            "metadata": {}
        },
        {
            "cell_type": "code",
            "execution_count": 8,
            "source": [
                "# usando convenios\r\n",
                "cn.error_cuadrado_uv(df_dx0, errores)"
            ],
            "outputs": [
                {
                    "output_type": "execute_result",
                    "data": {
                        "text/plain": [
                            "0.10246950765959599"
                        ]
                    },
                    "metadata": {},
                    "execution_count": 8
                }
            ],
            "metadata": {}
        },
        {
            "cell_type": "code",
            "execution_count": null,
            "source": [],
            "outputs": [],
            "metadata": {}
        }
    ],
    "metadata": {
        "orig_nbformat": 4,
        "language_info": {
            "name": "python",
            "version": "3.8.5",
            "mimetype": "text/x-python",
            "codemirror_mode": {
                "name": "ipython",
                "version": 3
            },
            "pygments_lexer": "ipython3",
            "nbconvert_exporter": "python",
            "file_extension": ".py"
        },
        "kernelspec": {
            "name": "python3",
            "display_name": "Python 3.8.5 64-bit ('base': conda)"
        },
        "interpreter": {
            "hash": "b3ba2566441a7c06988d0923437866b63cedc61552a5af99d1f4fb67d367b25f"
        }
    },
    "nbformat": 4,
    "nbformat_minor": 2
}