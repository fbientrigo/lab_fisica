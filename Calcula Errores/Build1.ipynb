{
    "cells": [
        {
            "cell_type": "markdown",
            "metadata": {},
            "source": [
                "# Producto Minimo Viable\n",
                "Este jupyter utiliza las bases interactivas del programa, el programa ``` main.py``` se basa en este notebook"
            ]
        },
        {
            "cell_type": "code",
            "execution_count": 1,
            "metadata": {},
            "outputs": [
                {
                    "name": "stdout",
                    "output_type": "stream",
                    "text": [
                        "funciones para labs, usa help() para averiguar mas o funciones.help()\n"
                    ]
                }
            ],
            "source": [
                "import convenios as cn\n",
                "import funciones as fn"
            ]
        },
        {
            "cell_type": "code",
            "execution_count": 3,
            "metadata": {},
            "outputs": [
                {
                    "name": "stdout",
                    "output_type": "stream",
                    "text": [
                        "\n",
                        "    import funciones as fn\n",
                        "    > XX = fn.simbolos(\"x,y,z\")\n",
                        "    or >> x, y, z = XX\n",
                        "    > mediciones = #mediciones para cada variable\n",
                        "    > expresionn = F(XX[0], XX[1]) #crear funcion\n",
                        "    or >> expresion = F(x,y,z)\n",
                        "\n",
                        "    #camino explicito\n",
                        "    > dels = fn.derivada(expresion, variables)\n",
                        "    > substitucion = sub_lista(variables, mediciones) #[(x,1),..]\n",
                        "    > delsx0 =  subrule(expresion, substitucion)\n",
                        "\n",
                        "\n",
                        "    # camino modulado\n",
                        "    > delsx0 = derivada_en_xo(expresion, variables, mediciones)\n",
                        "\n",
                        "    # luego utilizamos el convenio\n",
                        "    > convenio.ejemplo(delsx0, errores)\n",
                        "    \n"
                    ]
                }
            ],
            "source": [
                "# esot msotrara las funciones usables: fn.help()\n",
                "fn.help()"
            ]
        },
        {
            "cell_type": "markdown",
            "metadata": {},
            "source": [
                "# Ejemplo de uso\n",
                "Aqui una pocas variables y nua expresion dada"
            ]
        },
        {
            "cell_type": "code",
            "execution_count": 36,
            "metadata": {},
            "outputs": [],
            "source": [
                "# Si se quiere usar 1 sola variable, se ingresa una dummy\n",
                "# y en medicion y error se le da 0\n",
                "variables = fn.simbolos(\"L, D\")\n",
                "L, D = variables\n",
                "expresion = 1/ L\n",
                "\n",
                "\n",
                "mediciones = [400e-9, 0] #nm\n",
                "errores = [20e-9, 0]\n",
                "\n",
                "df_dx0 = fn.derivada_en_xo(expresion, variables, mediciones)\n",
                "\n",
                "# usando convenios\n",
                "delta = cn.error_cuadrado_uv(df_dx0, errores, sqrt=True)\n",
                "\n",
                "# el error para la cantidad calculada es:\n",
                "print(delta)"
            ]
        },
        {
            "cell_type": "code",
            "execution_count": 40,
            "metadata": {},
            "outputs": [
                {
                    "name": "stdout",
                    "output_type": "stream",
                    "text": [
                        "13.236630828099214\n"
                    ]
                }
            ],
            "source": [
                "# usando convenios\n",
                "delta = cn.error_cuadrado_uv(df_dx0, errores, sqrt=True)\n",
                "\n",
                "# el error para la cantidad calculada es:\n",
                "# luego todo va multiplocado por la grilla en el caso que estoy usando\n",
                "b = 1/600000\n",
                "# asi el error en la longitud de onda es:\n",
                "print(delta * b * 1e9)"
            ]
        },
        {
            "cell_type": "code",
            "execution_count": 5,
            "metadata": {},
            "outputs": [
                {
                    "data": {
                        "text/plain": [
                            "2018931854086.7498"
                        ]
                    },
                    "execution_count": 5,
                    "metadata": {},
                    "output_type": "execute_result"
                }
            ],
            "source": [
                "# B , R, V , caso Maximo\n",
                "mediciones = [0.000653616,0.015,290]\n",
                "errores = [7.64 * 10**(-6),2.5 * 10**(-3),5]\n",
                "\n",
                "df_dx0 = fn.derivada_en_xo(expresion, variables, mediciones)\n",
                "cn.error_cuadrado_uv(df_dx0, errores, sqrt=True)"
            ]
        },
        {
            "cell_type": "markdown",
            "metadata": {},
            "source": [
                "# Playground"
            ]
        },
        {
            "cell_type": "code",
            "execution_count": 7,
            "metadata": {},
            "outputs": [
                {
                    "name": "stdout",
                    "output_type": "stream",
                    "text": [
                        "125000.00000000003\n"
                    ]
                }
            ],
            "source": [
                "# Caso Mediana\n",
                "import numpy as np\n",
                "\n",
                "variables = fn.simbolos(\"L, D\")\n",
                "L, D = variables\n",
                "expresion = 1/ L\n",
                "\n",
                "\n",
                "mediciones = [400e-9, 0] #nm\n",
                "errores = [20e-9, 0]\n",
                "\n",
                "df_dx0 = fn.derivada_en_xo(expresion, variables, mediciones)\n",
                "\n",
                "# usando convenios\n",
                "delta = cn.error_cuadrado_uv(df_dx0, errores, sqrt=True)\n",
                "\n",
                "# el error para la cantidad calculada es:\n",
                "print(delta)"
            ]
        },
        {
            "cell_type": "code",
            "execution_count": null,
            "metadata": {},
            "outputs": [],
            "source": []
        }
    ],
    "metadata": {
        "kernelspec": {
            "display_name": "Python 3.9.13 ('base')",
            "language": "python",
            "name": "python3"
        },
        "language_info": {
            "codemirror_mode": {
                "name": "ipython",
                "version": 3
            },
            "file_extension": ".py",
            "mimetype": "text/x-python",
            "name": "python",
            "nbconvert_exporter": "python",
            "pygments_lexer": "ipython3",
            "version": "3.9.13"
        },
        "orig_nbformat": 4,
        "vscode": {
            "interpreter": {
                "hash": "ad2bdc8ecc057115af97d19610ffacc2b4e99fae6737bb82f5d7fb13d2f2c186"
            }
        }
    },
    "nbformat": 4,
    "nbformat_minor": 2
}
