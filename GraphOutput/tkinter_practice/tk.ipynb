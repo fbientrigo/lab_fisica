{
 "cells": [
  {
   "cell_type": "code",
   "execution_count": 1,
   "metadata": {},
   "outputs": [],
   "source": [
    "import tkinter as tk\n",
    "from tkinter import ttk"
   ]
  },
  {
   "cell_type": "code",
   "execution_count": 3,
   "metadata": {},
   "outputs": [],
   "source": [
    "# esto abre una ventana y la deja corriendo\n",
    "root = tk.Tk()\n",
    "root.mainloop()"
   ]
  },
  {
   "cell_type": "code",
   "execution_count": 4,
   "metadata": {},
   "outputs": [],
   "source": [
    "root = tk.Tk()\n",
    "# la config\n",
    "root.title('Titulo de Ventana')\n",
    "root.config(width=400, height=300)"
   ]
  },
  {
   "cell_type": "code",
   "execution_count": 5,
   "metadata": {},
   "outputs": [],
   "source": [
    "# y entonces corremos el loop de la instancia\n",
    "root.mainloop()"
   ]
  },
  {
   "attachments": {},
   "cell_type": "markdown",
   "metadata": {},
   "source": [
    "### Crear objetos para esta ventana\n",
    "en este caso crearemos un objeto etiqueta"
   ]
  },
  {
   "cell_type": "code",
   "execution_count": 24,
   "metadata": {},
   "outputs": [],
   "source": [
    "class Aplicacion_Textual(ttk.Frame):\n",
    "    def __init__(self, parent):\n",
    "        super().__init__(parent)\n",
    "        # le entrega caracteristica de aqui hacia abajo\n",
    "\n",
    "        # aqui un label para ingresar temp en c ----------\n",
    "        self.etiqueta_cels = ttk.Label(\n",
    "            parent, text='Temperatura en Cº'\n",
    "        )\n",
    "        self.etiqueta_cels.place(x=10, y=20)\n",
    "        # aqui una caja, que se llamaa Entry\n",
    "        self.box_temp_cels = ttk.Entry(parent)\n",
    "        self.box_temp_cels.place(x=10, y= 50)\n",
    "\n",
    "        # creo labels para el resultado en kelvins -------\n",
    "        self.etiqueta_kelv =  ttk.Label(\n",
    "            parent, text='Temperatura en Kelvins'\n",
    "        )\n",
    "        self.etiqueta_kelv.place(x=200, y=20)\n",
    "        # aqui una caja, que se llamaa Entry\n",
    "        self.box_temp_kelv = ttk.Label(parent, text= 'n/a')\n",
    "        self.box_temp_kelv.place(x=200, y= 50)\n",
    "\n",
    "        # creo labels para el resultado en Farenheits -------\n",
    "        self.etiqueta_far =  ttk.Label(\n",
    "            parent, text='Temperatura en Farenheit'\n",
    "        )\n",
    "        self.etiqueta_far.place(x=200, y=20)\n",
    "        # aqui una caja, que se llamaa Entry\n",
    "        self.box_temp_far = ttk.Label(parent, text= 'n/a')\n",
    "        self.box_temp_far.place(x=200, y= 50)\n",
    "\n",
    "\n",
    "class Aplicacion_Grafica(ttk.Frame):\n",
    "    def __init__(self, parent):\n",
    "        super().__init__(parent)\n",
    "\n",
    "        # creo labels para el resultado en kelvins -------\n",
    "        self.etiqueta_graph =  ttk.Label(\n",
    "            parent, text='aqui va un plot'\n",
    "        )\n",
    "        self.etiqueta_graph.place(x=200, y=200)\n",
    "        # aqui una caja, que se llamaa Entry\n",
    "        self.box_temp_graph = ttk.Label(parent, text= 'n/a')\n",
    "        self.box_temp_graph.place(x=200, y= 250)\n"
   ]
  },
  {
   "cell_type": "code",
   "execution_count": 25,
   "metadata": {},
   "outputs": [],
   "source": [
    "root = tk.Tk()\n",
    "root.title('Convierte Temperatura')\n",
    "root.config(width=600, height=400)\n",
    "app = Aplicacion_Textual(root)\n",
    "appgraph = Aplicacion_Grafica(root) # es posible superponer\n",
    "root.mainloop()"
   ]
  },
  {
   "cell_type": "code",
   "execution_count": null,
   "metadata": {},
   "outputs": [],
   "source": []
  }
 ],
 "metadata": {
  "kernelspec": {
   "display_name": "base",
   "language": "python",
   "name": "python3"
  },
  "language_info": {
   "codemirror_mode": {
    "name": "ipython",
    "version": 3
   },
   "file_extension": ".py",
   "mimetype": "text/x-python",
   "name": "python",
   "nbconvert_exporter": "python",
   "pygments_lexer": "ipython3",
   "version": "3.9.13"
  },
  "orig_nbformat": 4,
  "vscode": {
   "interpreter": {
    "hash": "ad2bdc8ecc057115af97d19610ffacc2b4e99fae6737bb82f5d7fb13d2f2c186"
   }
  }
 },
 "nbformat": 4,
 "nbformat_minor": 2
}
