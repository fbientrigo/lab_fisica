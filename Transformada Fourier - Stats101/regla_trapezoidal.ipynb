{
 "cells": [
  {
   "cell_type": "markdown",
   "metadata": {},
   "source": [
    "# Regla trapezoidal\n",
    "tengamos la integral de la forma\n",
    "$$\n",
    "I[a,b] = \\int_a^b f[x) dx\n",
    "$$\n",
    "\n",
    "\n"
   ]
  },
  {
   "cell_type": "code",
   "execution_count": 2,
   "metadata": {},
   "outputs": [],
   "source": [
    "import numpy as np\n",
    "\n",
    "# la funcion que usaremos en este ejemplo\n",
    "f = np.cos\n",
    "\n",
    "a = -np.pi\n",
    "b = np.pi"
   ]
  },
  {
   "cell_type": "markdown",
   "metadata": {},
   "source": [
    "se suele utilzar un $N$ cantidad de subdivisiones,\n",
    "En lugar de utilizar rectangulos se usan trapezoides de ancho $h$\n",
    "\n",
    "$$ h  = \\frac{b-a}{N}$$\n"
   ]
  },
  {
   "cell_type": "code",
   "execution_count": 4,
   "metadata": {},
   "outputs": [
    {
     "data": {
      "text/plain": [
       "0.06283185307179587"
      ]
     },
     "execution_count": 4,
     "metadata": {},
     "output_type": "execute_result"
    }
   ],
   "source": [
    "N = 100\n",
    "\n",
    "h = (b - a)/N\n",
    "h"
   ]
  },
  {
   "cell_type": "markdown",
   "metadata": {},
   "source": [
    "y tiene dos puntos de altura, a mano derecha:\n",
    "$$ a + kh \\rightarrow f[a+kh]$$\n",
    "\n",
    "a mano derecha del $k$ trapezoide:\n",
    "$$ a + kh - h\\rightarrow f[a+k(h-1)]$$\n",
    "\n",
    "entonces el area de un trapezoide:\n",
    "$$\n",
    "A_k = \\frac{h}{2} [f[a+k(h-1)] + f[a+kh]]\n",
    "$$\n",
    "donde reordenando veremos terminos repetidos excepto por los extremos\n",
    "$$\n",
    "I[a,b] \\approx \\sum A_k = h (\\frac{f[a]}{2} + \\frac{f[b]}{2} + \\sum_{k=1}^{N-1} f[a + kh] )\n",
    "$$"
   ]
  },
  {
   "cell_type": "code",
   "execution_count": 7,
   "metadata": {},
   "outputs": [
    {
     "name": "stdout",
     "output_type": "stream",
     "text": [
      "La intergal da: -6.278163296415537e-17\n"
     ]
    }
   ],
   "source": [
    "ak = 0.5 * ( f(a) + f(b) ) # expresamos las constntes\n",
    "\n",
    "for k in range(1,N): #la sumatoria\n",
    "    ak += f(a + k*h)\n",
    "\n",
    "ak = h * ak #multiplicando por el step size\n",
    "\n",
    "print('La intergal da:', ak)\n",
    "# para el coseno usado es 0, notese que es un valor menor a 1e-16"
   ]
  },
  {
   "cell_type": "markdown",
   "metadata": {},
   "source": [
    "# Implementacion rapida de usar"
   ]
  },
  {
   "cell_type": "code",
   "execution_count": 11,
   "metadata": {},
   "outputs": [],
   "source": [
    "import numpy as np\n",
    "\n",
    "def trapezoidal(f, a, b, N=101):\n",
    "    h = (b-a)/N\n",
    "    ak = 0.5 * ( f(a) + f(b) ) # expresamos las constntes\n",
    "\n",
    "    for k in range(1,N): #la sumatoria\n",
    "        ak += f(a + k*h)\n",
    "\n",
    "    return h * ak #multiplicando por el step size\n",
    "\n",
    "def trapezoidal_points(yn, kernel, a, b, N=101):\n",
    "    h = (b-a)/N\n",
    "    ak = 0.5 * ( yn[-1] + yn[0] ) # expresamos las constntes\n",
    "\n",
    "    for k in range(1,N): #la sumatoria\n",
    "        ak += yn[k] * kernel(a + k * h)\n",
    "\n",
    "    return h * ak #multiplicando por el step size"
   ]
  },
  {
   "cell_type": "code",
   "execution_count": 9,
   "metadata": {},
   "outputs": [
    {
     "name": "stdout",
     "output_type": "stream",
     "text": [
      "N/4: 500\n"
     ]
    },
    {
     "data": {
      "image/png": "[encoded data removed]",
      "text/plain": [
       "<Figure size 500x250 with 1 Axes>"
      ]
     },
     "metadata": {},
     "output_type": "display_data"
    }
   ],
   "source": [
    "# definir la funcion / Ingresar datos\n",
    "# definimos la funcion creando un domain\n",
    "import numpy as np \n",
    "import matplotlib.pyplot as plt\n",
    "\n",
    "dx = 0.001\n",
    "L = np.pi # limite superior e inferior [-pi, pi]\n",
    "x = L * np.arange(-1, 1+dx, dx)\n",
    "#print(\"x:\",x)\n",
    "\n",
    "N = len(x)\n",
    "#print(\"using N:\",N)\n",
    "\n",
    "# el periodo seria\n",
    "T = x[-1] - x[0]\n",
    "#print(\"T:\", T, \"= 2 pi\")\n",
    "\n",
    "Nquart = int(np.floor(N/4))\n",
    "print(\"N/4:\", Nquart)\n",
    "\n",
    "yn = np.zeros_like(x) #crea un arreglo identico a x pero con zeros\n",
    "# f[:Nquart] = 0 # el primer cuarto tiene 0's y el ultimo\n",
    "yn[Nquart:2*Nquart] = np.linspace(0,1,Nquart)\n",
    "yn[2*Nquart:3*Nquart] = np.linspace(1,0,Nquart)\n",
    "\n",
    "# ------------\n",
    "fig, ax = plt.subplots(figsize=(5,2.5))\n",
    "plt.title('Funcion que Trabajamos')\n",
    "plt.plot(x,yn)\n",
    "plt.show()\n",
    "\n",
    "\n"
   ]
  },
  {
   "cell_type": "code",
   "execution_count": 15,
   "metadata": {},
   "outputs": [
    {
     "data": {
      "text/plain": [
       "0.0"
      ]
     },
     "execution_count": 15,
     "metadata": {},
     "output_type": "execute_result"
    }
   ],
   "source": [
    "\n",
    "T = 2*np.pi\n",
    "kernel = lambda x: np.cos(2 * np.pi * x/ T)\n",
    "\n",
    "trapezoidal_points(yn, kernel, 0 , T)"
   ]
  },
  {
   "cell_type": "markdown",
   "metadata": {},
   "source": [
    "### uso en las series de fourier\n",
    "para el caso $k\\neq 0$\n",
    "$$\n",
    "\\int^T \\cos[\\omega k x] \\cos[\\omega \\kappa x] dx = \\frac{T}{2} \\delta_{k \\kappa}\n",
    "$$"
   ]
  },
  {
   "cell_type": "code",
   "execution_count": 17,
   "metadata": {},
   "outputs": [
    {
     "data": {
      "text/plain": [
       "3.141592653589792"
      ]
     },
     "execution_count": 17,
     "metadata": {},
     "output_type": "execute_result"
    }
   ],
   "source": [
    "ff = lambda x: np.cos(x) * np.cos(x)\n",
    "T = 2*np.pi\n",
    "\n",
    "trapezoidal(ff, 0, T) "
   ]
  },
  {
   "cell_type": "markdown",
   "metadata": {},
   "source": [
    "para el caso $k=  0$\n",
    "$$\n",
    "\\int^T \\cos[\\omega k x] \\cos[\\omega \\kappa x] dx = T \\delta_{k \\kappa}\n",
    "$$"
   ]
  },
  {
   "cell_type": "code",
   "execution_count": 6,
   "metadata": {},
   "outputs": [
    {
     "data": {
      "text/plain": [
       "6.283185307179586"
      ]
     },
     "execution_count": 6,
     "metadata": {},
     "output_type": "execute_result"
    }
   ],
   "source": [
    "# que pasa al hacerlos calzar con k=0\n",
    "# en este caso es el doble, por tanto hemos de dividir en su producto puntp\n",
    "ff = lambda x: np.cos(x*0) * np.cos(x*0)\n",
    "T = 2*np.pi\n",
    "\n",
    "\n",
    "trapezoidal(ff, 0, T)"
   ]
  },
  {
   "cell_type": "code",
   "execution_count": null,
   "metadata": {},
   "outputs": [],
   "source": []
  }
 ],
 "metadata": {
  "kernelspec": {
   "display_name": "Python 3.9.13 ('base')",
   "language": "python",
   "name": "python3"
  },
  "language_info": {
   "codemirror_mode": {
    "name": "ipython",
    "version": 3
   },
   "file_extension": ".py",
   "mimetype": "text/x-python",
   "name": "python",
   "nbconvert_exporter": "python",
   "pygments_lexer": "ipython3",
   "version": "3.9.13"
  },
  "orig_nbformat": 4,
  "vscode": {
   "interpreter": {
    "hash": "ad2bdc8ecc057115af97d19610ffacc2b4e99fae6737bb82f5d7fb13d2f2c186"
   }
  }
 },
 "nbformat": 4,
 "nbformat_minor": 2
}
