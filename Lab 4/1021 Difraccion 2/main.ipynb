{
 "cells": [
  {
   "cell_type": "markdown",
   "metadata": {},
   "source": [
    "# Determinacion Constnte de Rydberg"
   ]
  },
  {
   "cell_type": "code",
   "execution_count": 1,
   "metadata": {},
   "outputs": [],
   "source": [
    "import numpy as np\n",
    "import pandas as pd\n",
    "import matplotlib.pyplot as plt\n",
    "\n",
    "df = pd.read_csv('hidrogeno.csv')"
   ]
  },
  {
   "cell_type": "markdown",
   "metadata": {},
   "source": [
    "# Calculo de $\\lambda$\n"
   ]
  },
  {
   "cell_type": "code",
   "execution_count": 2,
   "metadata": {},
   "outputs": [],
   "source": [
    "grad =  np.pi/180\n",
    "np.sin(90 * grad)\n",
    "\n",
    "lpm = 600000 # 6000 lin / cm = 600000 lin / "
   ]
  },
  {
   "cell_type": "code",
   "execution_count": 3,
   "metadata": {},
   "outputs": [],
   "source": [
    "def lambdda(m, ang, bias = 0):\n",
    "    \"\"\"\n",
    "    ang: angulo en grados\n",
    "    m: orden\n",
    "    asume bias hacia la izquierda, osea que si tengo 2 grados de bias, al medir \n",
    "    2 grados hacia la derecha, estoy midiendo 0\n",
    "    \"\"\"\n",
    "\n",
    "    d = 1/lpm\n",
    "    lam= d*np.sin(np.abs(ang - bias)* np.pi/180)/m\n",
    "    print(str(lam * 10**9) + \" [nm]\")\n",
    "    return lam * 10**9"
   ]
  },
  {
   "cell_type": "code",
   "execution_count": 4,
   "metadata": {},
   "outputs": [],
   "source": [
    "df['promedio'] = (df['theta_der'] + df['theta_izq'])/2"
   ]
  },
  {
   "cell_type": "code",
   "execution_count": 13,
   "metadata": {},
   "outputs": [
    {
     "name": "stdout",
     "output_type": "stream",
     "text": [
      "0    421.522913\n",
      "1    443.995580\n",
      "2    499.789017\n",
      "3    669.912961\n",
      "4    439.129830\n",
      "5    493.930215\n",
      "6    669.880717\n",
      "dtype: float64 [nm]\n"
     ]
    }
   ],
   "source": [
    "\n",
    "df['lambda'] = lambdda(df.orden ,df[df['orden']==df.orden]['promedio'])"
   ]
  },
  {
   "cell_type": "code",
   "execution_count": 14,
   "metadata": {},
   "outputs": [],
   "source": [
    "df['color'] = ['violeta','violeta', 'celeste', 'rojo','violeta','celeste','rojo']"
   ]
  },
  {
   "cell_type": "code",
   "execution_count": 16,
   "metadata": {},
   "outputs": [
    {
     "data": {
      "text/html": [
       "<div>\n",
       "<style scoped>\n",
       "    .dataframe tbody tr th:only-of-type {\n",
       "        vertical-align: middle;\n",
       "    }\n",
       "\n",
       "    .dataframe tbody tr th {\n",
       "        vertical-align: top;\n",
       "    }\n",
       "\n",
       "    .dataframe thead th {\n",
       "        text-align: right;\n",
       "    }\n",
       "</style>\n",
       "<table border=\"1\" class=\"dataframe\">\n",
       "  <thead>\n",
       "    <tr style=\"text-align: right;\">\n",
       "      <th></th>\n",
       "      <th>theta_der</th>\n",
       "      <th>theta_izq</th>\n",
       "      <th>orden</th>\n",
       "      <th>promedio</th>\n",
       "      <th>lambda</th>\n",
       "      <th>color</th>\n",
       "    </tr>\n",
       "  </thead>\n",
       "  <tbody>\n",
       "    <tr>\n",
       "      <th>0</th>\n",
       "      <td>14.4</td>\n",
       "      <td>14.9</td>\n",
       "      <td>1</td>\n",
       "      <td>14.65</td>\n",
       "      <td>421.522913</td>\n",
       "      <td>violeta</td>\n",
       "    </tr>\n",
       "    <tr>\n",
       "      <th>1</th>\n",
       "      <td>15.4</td>\n",
       "      <td>15.5</td>\n",
       "      <td>1</td>\n",
       "      <td>15.45</td>\n",
       "      <td>443.995580</td>\n",
       "      <td>violeta</td>\n",
       "    </tr>\n",
       "    <tr>\n",
       "      <th>2</th>\n",
       "      <td>17.4</td>\n",
       "      <td>17.5</td>\n",
       "      <td>1</td>\n",
       "      <td>17.45</td>\n",
       "      <td>499.789017</td>\n",
       "      <td>celeste</td>\n",
       "    </tr>\n",
       "    <tr>\n",
       "      <th>3</th>\n",
       "      <td>23.4</td>\n",
       "      <td>24.0</td>\n",
       "      <td>1</td>\n",
       "      <td>23.70</td>\n",
       "      <td>669.912961</td>\n",
       "      <td>rojo</td>\n",
       "    </tr>\n",
       "    <tr>\n",
       "      <th>4</th>\n",
       "      <td>31.9</td>\n",
       "      <td>31.7</td>\n",
       "      <td>2</td>\n",
       "      <td>31.80</td>\n",
       "      <td>439.129830</td>\n",
       "      <td>violeta</td>\n",
       "    </tr>\n",
       "    <tr>\n",
       "      <th>5</th>\n",
       "      <td>36.2</td>\n",
       "      <td>36.5</td>\n",
       "      <td>2</td>\n",
       "      <td>36.35</td>\n",
       "      <td>493.930215</td>\n",
       "      <td>celeste</td>\n",
       "    </tr>\n",
       "    <tr>\n",
       "      <th>6</th>\n",
       "      <td>53.4</td>\n",
       "      <td>53.6</td>\n",
       "      <td>2</td>\n",
       "      <td>53.50</td>\n",
       "      <td>669.880717</td>\n",
       "      <td>rojo</td>\n",
       "    </tr>\n",
       "  </tbody>\n",
       "</table>\n",
       "</div>"
      ],
      "text/plain": [
       "   theta_der  theta_izq  orden  promedio      lambda    color\n",
       "0       14.4       14.9      1     14.65  421.522913  violeta\n",
       "1       15.4       15.5      1     15.45  443.995580  violeta\n",
       "2       17.4       17.5      1     17.45  499.789017  celeste\n",
       "3       23.4       24.0      1     23.70  669.912961     rojo\n",
       "4       31.9       31.7      2     31.80  439.129830  violeta\n",
       "5       36.2       36.5      2     36.35  493.930215  celeste\n",
       "6       53.4       53.6      2     53.50  669.880717     rojo"
      ]
     },
     "execution_count": 16,
     "metadata": {},
     "output_type": "execute_result"
    }
   ],
   "source": [
    "df"
   ]
  },
  {
   "cell_type": "code",
   "execution_count": 17,
   "metadata": {},
   "outputs": [],
   "source": [
    "df.to_csv('hidrogeno_lambdas.csv')"
   ]
  },
  {
   "cell_type": "markdown",
   "metadata": {},
   "source": [
    "# Calcula $R_H$\n",
    "Serie de Balmer inversa\n",
    "\n",
    "$$\n",
    "\\frac{1}{\\lambda} = R_H  (\\frac{1}{2^2} - \\frac{1}{n^2})\n",
    "$$\n",
    "\n",
    "$$\n",
    "R_H = \\frac{1}{\\lambda} (\\frac{4 n ^2}{n^2 - 4}) = 10 973 731.6 [m^{-1}]\n",
    "$$"
   ]
  },
  {
   "cell_type": "code",
   "execution_count": 70,
   "metadata": {},
   "outputs": [],
   "source": [
    "import pandas as pd\n",
    "import matplotlib.pyplot as plt\n",
    "import numpy as np\n",
    "\n",
    "realR = 10973731.6 # rydberg constante R_\\infty\n",
    "realRh = 1.09678 * 10**7\n",
    "\n",
    "# serie de balmer\n",
    "def Rh(lambdad, n):\n",
    "    longitudvacio = 1.00027717 * lambdad\n",
    "    rh = (4*n*n)/(longitudvacio * (n*n - 4)) # 10**-9 [1/m]\n",
    "    return rh * 10**9 # lo retorna en # [1/m]"
   ]
  },
  {
   "cell_type": "code",
   "execution_count": 22,
   "metadata": {},
   "outputs": [
    {
     "data": {
      "text/html": [
       "<div>\n",
       "<style scoped>\n",
       "    .dataframe tbody tr th:only-of-type {\n",
       "        vertical-align: middle;\n",
       "    }\n",
       "\n",
       "    .dataframe tbody tr th {\n",
       "        vertical-align: top;\n",
       "    }\n",
       "\n",
       "    .dataframe thead th {\n",
       "        text-align: right;\n",
       "    }\n",
       "</style>\n",
       "<table border=\"1\" class=\"dataframe\">\n",
       "  <thead>\n",
       "    <tr style=\"text-align: right;\">\n",
       "      <th></th>\n",
       "      <th>theta_der</th>\n",
       "      <th>theta_izq</th>\n",
       "      <th>orden</th>\n",
       "      <th>promedio</th>\n",
       "      <th>lambda</th>\n",
       "      <th>color</th>\n",
       "    </tr>\n",
       "  </thead>\n",
       "  <tbody>\n",
       "    <tr>\n",
       "      <th>0</th>\n",
       "      <td>14.4</td>\n",
       "      <td>14.9</td>\n",
       "      <td>1</td>\n",
       "      <td>14.65</td>\n",
       "      <td>421.522913</td>\n",
       "      <td>violeta</td>\n",
       "    </tr>\n",
       "    <tr>\n",
       "      <th>1</th>\n",
       "      <td>15.4</td>\n",
       "      <td>15.5</td>\n",
       "      <td>1</td>\n",
       "      <td>15.45</td>\n",
       "      <td>443.995580</td>\n",
       "      <td>violeta</td>\n",
       "    </tr>\n",
       "    <tr>\n",
       "      <th>2</th>\n",
       "      <td>17.4</td>\n",
       "      <td>17.5</td>\n",
       "      <td>1</td>\n",
       "      <td>17.45</td>\n",
       "      <td>499.789017</td>\n",
       "      <td>celeste</td>\n",
       "    </tr>\n",
       "    <tr>\n",
       "      <th>3</th>\n",
       "      <td>23.4</td>\n",
       "      <td>24.0</td>\n",
       "      <td>1</td>\n",
       "      <td>23.70</td>\n",
       "      <td>669.912961</td>\n",
       "      <td>rojo</td>\n",
       "    </tr>\n",
       "    <tr>\n",
       "      <th>4</th>\n",
       "      <td>31.9</td>\n",
       "      <td>31.7</td>\n",
       "      <td>2</td>\n",
       "      <td>31.80</td>\n",
       "      <td>439.129830</td>\n",
       "      <td>violeta</td>\n",
       "    </tr>\n",
       "    <tr>\n",
       "      <th>5</th>\n",
       "      <td>36.2</td>\n",
       "      <td>36.5</td>\n",
       "      <td>2</td>\n",
       "      <td>36.35</td>\n",
       "      <td>493.930215</td>\n",
       "      <td>celeste</td>\n",
       "    </tr>\n",
       "    <tr>\n",
       "      <th>6</th>\n",
       "      <td>53.4</td>\n",
       "      <td>53.6</td>\n",
       "      <td>2</td>\n",
       "      <td>53.50</td>\n",
       "      <td>669.880717</td>\n",
       "      <td>rojo</td>\n",
       "    </tr>\n",
       "  </tbody>\n",
       "</table>\n",
       "</div>"
      ],
      "text/plain": [
       "   theta_der  theta_izq  orden  promedio      lambda    color\n",
       "0       14.4       14.9      1     14.65  421.522913  violeta\n",
       "1       15.4       15.5      1     15.45  443.995580  violeta\n",
       "2       17.4       17.5      1     17.45  499.789017  celeste\n",
       "3       23.4       24.0      1     23.70  669.912961     rojo\n",
       "4       31.9       31.7      2     31.80  439.129830  violeta\n",
       "5       36.2       36.5      2     36.35  493.930215  celeste\n",
       "6       53.4       53.6      2     53.50  669.880717     rojo"
      ]
     },
     "execution_count": 22,
     "metadata": {},
     "output_type": "execute_result"
    }
   ],
   "source": [
    "datahidro = pd.read_csv('hidrogeno_lambdas.csv', index_col=0)\n",
    "datahidro"
   ]
  },
  {
   "cell_type": "code",
   "execution_count": 29,
   "metadata": {},
   "outputs": [],
   "source": [
    "# Hidrogeno rojo 3->2\n",
    "Rh3_2 = Rh(datahidro['lambda'][3],3)\n",
    "\n",
    "# Hidrogeno azul verde 4->2\n",
    "Rh4_2 = Rh(datahidro['lambda'][2],4)\n",
    "\n",
    "# Hidrogeno violeta 5->2\n",
    "Rh5_2 = Rh(datahidro['lambda'][1],5)\n",
    "\n",
    "# Hidrogeno violeta 6->2\n",
    "Rh6_2 = Rh(datahidro['lambda'][0],6)"
   ]
  },
  {
   "cell_type": "code",
   "execution_count": 71,
   "metadata": {},
   "outputs": [
    {
     "data": {
      "text/html": [
       "<div>\n",
       "<style scoped>\n",
       "    .dataframe tbody tr th:only-of-type {\n",
       "        vertical-align: middle;\n",
       "    }\n",
       "\n",
       "    .dataframe tbody tr th {\n",
       "        vertical-align: top;\n",
       "    }\n",
       "\n",
       "    .dataframe thead th {\n",
       "        text-align: right;\n",
       "    }\n",
       "</style>\n",
       "<table border=\"1\" class=\"dataframe\">\n",
       "  <thead>\n",
       "    <tr style=\"text-align: right;\">\n",
       "      <th></th>\n",
       "      <th>E0</th>\n",
       "      <th>Rh</th>\n",
       "      <th>error_percent</th>\n",
       "    </tr>\n",
       "  </thead>\n",
       "  <tbody>\n",
       "    <tr>\n",
       "      <th>0</th>\n",
       "      <td>3</td>\n",
       "      <td>1.074469e+07</td>\n",
       "      <td>-2.034257</td>\n",
       "    </tr>\n",
       "    <tr>\n",
       "      <th>1</th>\n",
       "      <td>4</td>\n",
       "      <td>1.066821e+07</td>\n",
       "      <td>-2.731517</td>\n",
       "    </tr>\n",
       "    <tr>\n",
       "      <th>2</th>\n",
       "      <td>5</td>\n",
       "      <td>1.072215e+07</td>\n",
       "      <td>-2.239778</td>\n",
       "    </tr>\n",
       "    <tr>\n",
       "      <th>3</th>\n",
       "      <td>6</td>\n",
       "      <td>1.067262e+07</td>\n",
       "      <td>-2.691350</td>\n",
       "    </tr>\n",
       "  </tbody>\n",
       "</table>\n",
       "</div>"
      ],
      "text/plain": [
       "   E0            Rh  error_percent\n",
       "0   3  1.074469e+07      -2.034257\n",
       "1   4  1.066821e+07      -2.731517\n",
       "2   5  1.072215e+07      -2.239778\n",
       "3   6  1.067262e+07      -2.691350"
      ]
     },
     "execution_count": 71,
     "metadata": {},
     "output_type": "execute_result"
    }
   ],
   "source": [
    "rhdf = pd.DataFrame({\n",
    "    'E0': [3,4,5,6],\n",
    "    'Rh': [Rh3_2, Rh4_2, Rh5_2, Rh6_2],\n",
    "})\n",
    "\n",
    "rhdf['error_percent'] = 100 *  (rhdf.Rh - realRh)/ realRh\n",
    "\n",
    "rhdf"
   ]
  },
  {
   "cell_type": "markdown",
   "metadata": {},
   "source": [
    "# Plot de Rh para el Hidrogeno"
   ]
  },
  {
   "cell_type": "code",
   "execution_count": 72,
   "metadata": {},
   "outputs": [],
   "source": [
    "import seaborn as sns"
   ]
  },
  {
   "cell_type": "code",
   "execution_count": 73,
   "metadata": {},
   "outputs": [
    {
     "data": {
      "image/png": "[encoded data removed]",
      "text/plain": [
       "<Figure size 1600x900 with 1 Axes>"
      ]
     },
     "metadata": {},
     "output_type": "display_data"
    }
   ],
   "source": [
    "fig, ax = plt.subplots(figsize=(16,9))\n",
    "plt.title(r'$R_h$ Hidrogeno')\n",
    "sns.boxplot(\n",
    "    x=rhdf.Rh, ax=ax, medianprops={\"color\": \"coral\"}\n",
    "    )\n",
    "plt.show()"
   ]
  },
  {
   "cell_type": "code",
   "execution_count": 74,
   "metadata": {},
   "outputs": [
    {
     "data": {
      "image/png": "[encoded data removed]",
      "text/plain": [
       "<Figure size 1000x600 with 1 Axes>"
      ]
     },
     "metadata": {},
     "output_type": "display_data"
    }
   ],
   "source": [
    "fig, ax = plt.subplots(figsize=(10,6))\n",
    "plt.title(r'$R_h$ porcentaje de error')\n",
    "sns.scatterplot(\n",
    "    ax=ax, data=rhdf,\n",
    "    y=\"error_percent\", x=\"E0\", size=\"Rh\", sizes= (200,400), hue=\"Rh\"\n",
    "    )\n",
    "ax.set_xlabel(\"nivel de salto de energia hacia nivel 2\")\n",
    "ax.set_ylabel(\"Porcentaje de Error\")\n",
    "plt.show()"
   ]
  },
  {
   "cell_type": "markdown",
   "metadata": {},
   "source": [
    "# Analisis Comparativo\n",
    "Utilizando la constante de Rydberg para mas elementos como una aproximación."
   ]
  },
  {
   "cell_type": "markdown",
   "metadata": {},
   "source": [
    "donde podemos entonces obtener la constante de Rydberg \n",
    "$$\n",
    "R = \\frac{m_e Z^2 e^4}{8 \\varepsilon_0^2 h^3 c} \n",
    "$$\n"
   ]
  },
  {
   "cell_type": "code",
   "execution_count": 38,
   "metadata": {},
   "outputs": [
    {
     "data": {
      "text/html": [
       "<div>\n",
       "<style scoped>\n",
       "    .dataframe tbody tr th:only-of-type {\n",
       "        vertical-align: middle;\n",
       "    }\n",
       "\n",
       "    .dataframe tbody tr th {\n",
       "        vertical-align: top;\n",
       "    }\n",
       "\n",
       "    .dataframe thead th {\n",
       "        text-align: right;\n",
       "    }\n",
       "</style>\n",
       "<table border=\"1\" class=\"dataframe\">\n",
       "  <thead>\n",
       "    <tr style=\"text-align: right;\">\n",
       "      <th></th>\n",
       "      <th>color</th>\n",
       "      <th>D</th>\n",
       "      <th>lambda m</th>\n",
       "      <th>lambda nm</th>\n",
       "    </tr>\n",
       "  </thead>\n",
       "  <tbody>\n",
       "    <tr>\n",
       "      <th>0</th>\n",
       "      <td>violeta</td>\n",
       "      <td>25.85</td>\n",
       "      <td>4.375980e-07</td>\n",
       "      <td>437.598</td>\n",
       "    </tr>\n",
       "    <tr>\n",
       "      <th>1</th>\n",
       "      <td>celeste</td>\n",
       "      <td>29.75</td>\n",
       "      <td>4.980780e-07</td>\n",
       "      <td>498.078</td>\n",
       "    </tr>\n",
       "    <tr>\n",
       "      <th>2</th>\n",
       "      <td>verde</td>\n",
       "      <td>32.75</td>\n",
       "      <td>5.431900e-07</td>\n",
       "      <td>543.190</td>\n",
       "    </tr>\n",
       "    <tr>\n",
       "      <th>3</th>\n",
       "      <td>roja ten</td>\n",
       "      <td>37.50</td>\n",
       "      <td>6.119440e-07</td>\n",
       "      <td>611.944</td>\n",
       "    </tr>\n",
       "    <tr>\n",
       "      <th>4</th>\n",
       "      <td>roja main</td>\n",
       "      <td>41.50</td>\n",
       "      <td>6.671880e-07</td>\n",
       "      <td>667.188</td>\n",
       "    </tr>\n",
       "  </tbody>\n",
       "</table>\n",
       "</div>"
      ],
      "text/plain": [
       "       color      D      lambda m  lambda nm\n",
       "0    violeta  25.85  4.375980e-07    437.598\n",
       "1    celeste  29.75  4.980780e-07    498.078\n",
       "2      verde  32.75  5.431900e-07    543.190\n",
       "3   roja ten  37.50  6.119440e-07    611.944\n",
       "4  roja main  41.50  6.671880e-07    667.188"
      ]
     },
     "execution_count": 38,
     "metadata": {},
     "output_type": "execute_result"
    }
   ],
   "source": [
    "# leer los datos obtenidos\n",
    "import pandas as pd\n",
    "import numpy as np\n",
    "\n",
    "vaporagua = pd.read_csv(\"./vaporagua.csv\")\n",
    "hidrogeno = pd.read_csv(\"./hidrogeno.csv\")\n",
    "#vaporagua['lambda m']\n",
    "\n",
    "hidrogeno[\"lambda m\"] = hidrogeno[\"lambda nm\"] * 1e-9\n",
    "\n",
    "\n",
    "# aunque es mejor trabajr en nanometros para alejarnos del machep\n",
    "vaporagua[\"lambda nm\"] = vaporagua[\"lambda m\"] * 1e9\n",
    "vaporagua\n",
    "#hidrogeno"
   ]
  },
  {
   "cell_type": "code",
   "execution_count": 18,
   "metadata": {},
   "outputs": [
    {
     "data": {
      "text/plain": [
       "True"
      ]
     },
     "execution_count": 18,
     "metadata": {},
     "output_type": "execute_result"
    }
   ],
   "source": [
    "# tener cuidado con 10ealgo, ya que esta algo raro\n",
    "10e-09 == 10 * 1e-09\n",
    "\n",
    "#1e-09 * 10**9"
   ]
  },
  {
   "cell_type": "code",
   "execution_count": 56,
   "metadata": {},
   "outputs": [
    {
     "data": {
      "text/plain": [
       "2.3071822230491534e-16"
      ]
     },
     "execution_count": 56,
     "metadata": {},
     "output_type": "execute_result"
    }
   ],
   "source": [
    "# ejemplo de machine error\n",
    "# ocurre en floats\n",
    "abs(3.3 - 3.31 + 0.01) "
   ]
  },
  {
   "cell_type": "code",
   "execution_count": 53,
   "metadata": {},
   "outputs": [],
   "source": [
    "# Algoritmo de Similitud Aplicado\n",
    "# corre un for internamente\n",
    " # funcion para buscar match dentro de un porcentaje de error\n",
    "def epsilon_difference(x, datapoint, epsilon):\n",
    "    #print(\"Difference is:\", abs( 1 - x / datapoint))\n",
    "    if(abs(1 - x / datapoint) <= epsilon ):\n",
    "        #print(\"... match\")\n",
    "        return x, datapoint \n",
    "    else:\n",
    "        #print(\"No data matching conditions\")\n",
    "        return 0, 0\n",
    "\n",
    "def epsilon_loop(comparewith, data, epsilon=0.005, epsilonLimit=0.2):    \n",
    "    while (epsilon <= epsilonLimit):\n",
    "        #print(\"epsilon:\",epsilon)\n",
    "        Ndata = len(data)\n",
    "        x = np.zeros(Ndata)\n",
    "        dataR = np.zeros(Ndata)\n",
    "\n",
    "        for jth, datapoint in enumerate(data):\n",
    "            #print(datapoint)\n",
    "            x[jth], dataR[jth] = epsilon_difference(comparewith , datapoint, epsilon)\n",
    "\n",
    "        x = x[x > 1e-16] # sobre el machine error, 10e-16 se debe ver como 0\n",
    "        dataR = dataR[dataR > 1e-16]\n",
    "        if (len(x) > 0):\n",
    "            #print(x, dataR)\n",
    "            return x, dataR, epsilon\n",
    "        elif (epsilon <= epsilonLimit):\n",
    "            #print(epsilon)\n",
    "            epsilon += 0.005 \n",
    "        else:\n",
    "            break\n"
   ]
  },
  {
   "cell_type": "code",
   "execution_count": 55,
   "metadata": {},
   "outputs": [
    {
     "name": "stdout",
     "output_type": "stream",
     "text": [
      "[437.598 498.078 543.19  611.944 667.188] [443.99558037 499.78901677 499.78901677 669.91296109 669.91296109]\n"
     ]
    }
   ],
   "source": [
    "# para comparar dos arreglos, entonces comenzamos a hacer un loop\n",
    "comparedata = hidrogeno[\"lambda nm\"]\n",
    "data = vaporagua[\"lambda nm\"]\n",
    "\n",
    "x = np.zeros(len(data))\n",
    "dataResult = np.zeros(len(data))\n",
    "epsilon_DF = np.zeros(len(data))\n",
    "\n",
    "for ith, datapoint in enumerate(data):\n",
    "    #print(\"ith\", ith)\n",
    "    z = epsilon_loop(datapoint, comparedata)\n",
    "    x[ith], dataResult[ith], epsilon_DF[ith]  = z[0], z[1], z[2]\n",
    "\n",
    "print(x, dataResult)\n",
    "\n"
   ]
  },
  {
   "cell_type": "markdown",
   "metadata": {},
   "source": [
    "### convirtiendolo en una funcion"
   ]
  },
  {
   "cell_type": "code",
   "execution_count": 63,
   "metadata": {},
   "outputs": [],
   "source": [
    "def compara2df(dfsmall, dfbig, epsilon=0.005, epsilonLimit=0.2):\n",
    "    \"\"\"\n",
    "    compara dos dataframes mediante diferencias porcentuales de epsilon,\n",
    "    se ha de utilizar pandas Series, por tanto si tiene un array, corta\n",
    "    la seccion importante con un slicing\n",
    "\n",
    "    dfbig = vapor_agua[\"lambdas nm\"]\n",
    "    df = hidrogeno[\"lambdas nm\"]\n",
    "    \"\"\"\n",
    "    x = np.zeros(len(dfbig))\n",
    "    dataResult = np.zeros(len(dfbig))\n",
    "    epsilon_DF = np.zeros(len(dfbig))\n",
    "\n",
    "    for ith, datapoint in enumerate(dfbig):\n",
    "        #print(\"ith\", ith)\n",
    "        z = epsilon_loop(datapoint, dfsmall, epsilon, epsilonLimit)\n",
    "        x[ith], dataResult[ith], epsilon_DF[ith]  = z[0], z[1], z[2]\n",
    "\n",
    "    return x, dataResult, epsilon_DF\n"
   ]
  },
  {
   "cell_type": "code",
   "execution_count": 65,
   "metadata": {},
   "outputs": [],
   "source": [
    "df = hidrogeno[\"lambda nm\"]\n",
    "x, dataResult, epsilon_DF = compara2df(dfsmall = df, dfbig=vaporagua[\"lambda nm\"])"
   ]
  },
  {
   "cell_type": "code",
   "execution_count": 67,
   "metadata": {},
   "outputs": [
    {
     "data": {
      "text/html": [
       "<div>\n",
       "<style scoped>\n",
       "    .dataframe tbody tr th:only-of-type {\n",
       "        vertical-align: middle;\n",
       "    }\n",
       "\n",
       "    .dataframe tbody tr th {\n",
       "        vertical-align: top;\n",
       "    }\n",
       "\n",
       "    .dataframe thead th {\n",
       "        text-align: right;\n",
       "    }\n",
       "</style>\n",
       "<table border=\"1\" class=\"dataframe\">\n",
       "  <thead>\n",
       "    <tr style=\"text-align: right;\">\n",
       "      <th></th>\n",
       "      <th>hidrogeno</th>\n",
       "      <th>vapor agua</th>\n",
       "      <th>epsilon algorithm</th>\n",
       "    </tr>\n",
       "  </thead>\n",
       "  <tbody>\n",
       "    <tr>\n",
       "      <th>0</th>\n",
       "      <td>437.598</td>\n",
       "      <td>443.995580</td>\n",
       "      <td>0.015</td>\n",
       "    </tr>\n",
       "    <tr>\n",
       "      <th>1</th>\n",
       "      <td>498.078</td>\n",
       "      <td>499.789017</td>\n",
       "      <td>0.005</td>\n",
       "    </tr>\n",
       "    <tr>\n",
       "      <th>2</th>\n",
       "      <td>543.190</td>\n",
       "      <td>499.789017</td>\n",
       "      <td>0.090</td>\n",
       "    </tr>\n",
       "    <tr>\n",
       "      <th>3</th>\n",
       "      <td>611.944</td>\n",
       "      <td>669.912961</td>\n",
       "      <td>0.090</td>\n",
       "    </tr>\n",
       "    <tr>\n",
       "      <th>4</th>\n",
       "      <td>667.188</td>\n",
       "      <td>669.912961</td>\n",
       "      <td>0.005</td>\n",
       "    </tr>\n",
       "  </tbody>\n",
       "</table>\n",
       "</div>"
      ],
      "text/plain": [
       "   hidrogeno  vapor agua  epsilon algorithm\n",
       "0    437.598  443.995580              0.015\n",
       "1    498.078  499.789017              0.005\n",
       "2    543.190  499.789017              0.090\n",
       "3    611.944  669.912961              0.090\n",
       "4    667.188  669.912961              0.005"
      ]
     },
     "execution_count": 67,
     "metadata": {},
     "output_type": "execute_result"
    }
   ],
   "source": [
    "comparacion = pd.DataFrame(\n",
    "    {\n",
    "        \"hidrogeno\": x,\n",
    "        \"vapor agua\": dataResult,\n",
    "        \"epsilon algorithm\": epsilon_DF\n",
    "    }\n",
    ")\n",
    "comparacion\n",
    "# comparacion.to_csv(\"./epsilon_agua_hidrogeno.csv\")"
   ]
  },
  {
   "cell_type": "code",
   "execution_count": 63,
   "metadata": {},
   "outputs": [
    {
     "name": "stdout",
     "output_type": "stream",
     "text": [
      "n m lambda [m]\n",
      "1 2 1.8994997477464337e-11\n",
      "1 3 1.6027029121610535e-11\n",
      "1 4 1.519599798197147e-11\n",
      "1 5 1.4839841779269012e-11\n",
      "1 6 1.465328376832963e-11\n",
      "2 3 1.0257298637830741e-10\n",
      "2 4 7.597998990985735e-11\n",
      "2 5 6.783927670522977e-11\n",
      "2 6 6.410811648644214e-11\n",
      "2 7 6.205032509305016e-11\n",
      "3 4 2.930656753665926e-10\n",
      "3 5 2.003378640201317e-10\n",
      "3 6 1.7095497729717902e-10\n",
      "3 7 1.570648853917832e-10\n",
      "3 8 1.4919707109571988e-10\n",
      "4 5 6.331665825821445e-10\n",
      "4 6 4.1029194551322966e-10\n",
      "4 7 3.3845631868936446e-10\n",
      "4 8 3.039199596394294e-10\n",
      "4 9 2.8404826997069745e-10\n"
     ]
    }
   ],
   "source": [
    "# agua\n",
    "#Z = 10\n",
    "\n",
    "# Hg\n",
    "Z = 80\n",
    "\n",
    "Rz = Z*Z * 1.09678 * 10**7\n",
    "\n",
    "\n",
    "def longitudOnda(n,m): #m > n\n",
    "    return (1)/(Rz * (  1/n**2  - 1/m**2 ))\n",
    "\n",
    "epsilon = 0.1\n",
    "\n",
    "print('n','m', 'lambda [m]')\n",
    "for n in range(1, 5):\n",
    "    for m in range(n+1, n+6):   \n",
    "        print(n,m, longitudOnda(n, m))\n",
    "        for datapoint in vaporagua['lambda m']:\n",
    "            epsilon_difference( longitudOnda(n, m), datapoint, epsilon )"
   ]
  },
  {
   "cell_type": "code",
   "execution_count": 64,
   "metadata": {},
   "outputs": [
    {
     "name": "stdout",
     "output_type": "stream",
     "text": [
      "n m lambda [m]\n",
      "1 2 (1, 2, 0.018994997477464335)\n",
      "1 3 (1, 3, 0.016027029121610536)\n",
      "1 4 (1, 4, 0.015195997981971469)\n",
      "1 5 (1, 5, 0.014839841779269012)\n",
      "1 6 (1, 6, 0.01465328376832963)\n",
      "2 3 (2, 3, 0.10257298637830742)\n",
      "2 4 (2, 4, 0.07597998990985734)\n",
      "2 5 (2, 5, 0.06783927670522977)\n",
      "2 6 (2, 6, 0.06410811648644214)\n",
      "2 7 (2, 7, 0.06205032509305016)\n",
      "3 4 (3, 4, 0.2930656753665926)\n",
      "3 5 (3, 5, 0.20033786402013168)\n",
      "3 6 (3, 6, 0.170954977297179)\n",
      "3 7 (3, 7, 0.15706488539178323)\n",
      "3 8 (3, 8, 0.1491970710957199)\n",
      "4 5 (4, 5, 0.6331665825821445)\n",
      "4 6 (4, 6, 0.41029194551322967)\n",
      "4 7 (4, 7, 0.3384563186893645)\n",
      "4 8 (4, 8, 0.30391995963942936)\n",
      "4 9 (4, 9, 0.28404826997069743)\n"
     ]
    }
   ],
   "source": [
    "# agua\n",
    "#Z = 10\n",
    "\n",
    "# Hg\n",
    "Z = 80\n",
    "\n",
    "Rz = Z*Z * 1.09678 * 10**7\n",
    "\n",
    "def longitudOnda(n,m): #m > n\n",
    "    lmb = (10**9)/(Rz * (  1/n**2  - 1/m**2 ))\n",
    "    return n, m, lmb\n",
    "\n",
    "\n",
    "print('n','m', 'lambda [m]')\n",
    "for n in range(1, 5):\n",
    "    for m in range(n+1, n+6):   \n",
    "        print(n,m, longitudOnda(n, m))"
   ]
  },
  {
   "cell_type": "code",
   "execution_count": 31,
   "metadata": {},
   "outputs": [
    {
     "name": "stdout",
     "output_type": "stream",
     "text": [
      "[1, 2, 4, 2, 1, 4]\n",
      "[1, 2, 4]\n",
      "[2, 1, 4]\n"
     ]
    },
    {
     "data": {
      "text/plain": [
       "[1, 2, 4, 2, 1, 4]"
      ]
     },
     "execution_count": 31,
     "metadata": {},
     "output_type": "execute_result"
    }
   ],
   "source": [
    "# para ordenar los datos\n",
    "# el algoritmo Merge sort\n",
    "\n",
    "# divide en dos grupos\n",
    "# divide en grupos\n",
    "# ...\n",
    "# al llegar al tamaño de 1 de grupo, toma el primer par\n",
    "# si x0 < x1 entonces toma el siguiente par x1< x2,\n",
    "    # else: (osea x2< x1, desorden)\n",
    "    # entonces x1, x2 = x2, x1\n",
    "\n",
    "lista = [1,2,4,2,1,4]\n",
    "\n",
    "## por terminar\n",
    "def mergesort(lista):\n",
    "    N = len(lista)\n",
    "    if N > 2: \n",
    "        print(lista)\n",
    "        return mergesort(lista[:(N//2)]) + mergesort(lista[(N//2):])\n",
    "\n",
    "    elif N == 2:\n",
    "        if lista[0] > lista[1]:\n",
    "            return [lista[1], lista[0]]\n",
    "        else:\n",
    "            return lista\n",
    "    elif N==1:\n",
    "        return lista\n",
    "\n",
    "mergesort(lista)"
   ]
  },
  {
   "cell_type": "code",
   "execution_count": 24,
   "metadata": {},
   "outputs": [
    {
     "data": {
      "text/plain": [
       "[1, 2]"
      ]
     },
     "execution_count": 24,
     "metadata": {},
     "output_type": "execute_result"
    }
   ],
   "source": [
    "mergesort([2,1])"
   ]
  },
  {
   "cell_type": "code",
   "execution_count": 21,
   "metadata": {},
   "outputs": [
    {
     "data": {
      "text/plain": [
       "[4]"
      ]
     },
     "execution_count": 21,
     "metadata": {},
     "output_type": "execute_result"
    }
   ],
   "source": [
    "N = len(lista)\n",
    "\n",
    "lista = mergesort(lista[(N//2):])\n",
    "mergesort(lista[(N//2):])"
   ]
  },
  {
   "cell_type": "code",
   "execution_count": 15,
   "metadata": {},
   "outputs": [
    {
     "data": {
      "text/plain": [
       "[1, 2, 4, 2, 1, 4]"
      ]
     },
     "execution_count": 15,
     "metadata": {},
     "output_type": "execute_result"
    }
   ],
   "source": [
    "N = len(lista)\n",
    "lista[:(N//2)] + lista[(N//2):]\n"
   ]
  },
  {
   "cell_type": "code",
   "execution_count": 13,
   "metadata": {},
   "outputs": [
    {
     "data": {
      "text/plain": [
       "[2, 1, 4]"
      ]
     },
     "execution_count": 13,
     "metadata": {},
     "output_type": "execute_result"
    }
   ],
   "source": []
  },
  {
   "cell_type": "code",
   "execution_count": null,
   "metadata": {},
   "outputs": [],
   "source": [
    "import pandas as pd\n",
    "import matplotlib.pyplot as plt\n",
    "import numpy as np\n",
    "\n",
    "realR = 10973731.6 # rydberg constante R_\\infty\n",
    "realRh = 1.09678 * 10**7\n",
    "\n",
    "# serie de balmer\n",
    "def Rh(lambdad, n):\n",
    "    longitudvacio = 1.00027717 * lambdad\n",
    "    rh = (4*n*n)/(longitudvacio * (n*n - 4)) # 10**-9 [1/m]\n",
    "    return rh * 10**9 # lo retorna en # [1/m]"
   ]
  }
 ],
 "metadata": {
  "kernelspec": {
   "display_name": "Python 3.9.13 ('base')",
   "language": "python",
   "name": "python3"
  },
  "language_info": {
   "codemirror_mode": {
    "name": "ipython",
    "version": 3
   },
   "file_extension": ".py",
   "mimetype": "text/x-python",
   "name": "python",
   "nbconvert_exporter": "python",
   "pygments_lexer": "ipython3",
   "version": "3.9.13"
  },
  "orig_nbformat": 4,
  "vscode": {
   "interpreter": {
    "hash": "ad2bdc8ecc057115af97d19610ffacc2b4e99fae6737bb82f5d7fb13d2f2c186"
   }
  }
 },
 "nbformat": 4,
 "nbformat_minor": 2
}
