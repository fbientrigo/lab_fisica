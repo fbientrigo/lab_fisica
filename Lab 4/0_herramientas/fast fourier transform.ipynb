{
 "cells": [
  {
   "cell_type": "markdown",
   "metadata": {},
   "source": [
    "# FFT\n",
    "El algoritmo para expresar los datos discretoscomo ondas"
   ]
  },
  {
   "cell_type": "code",
   "execution_count": null,
   "metadata": {},
   "outputs": [],
   "source": [
    "import numpy as np\n",
    "import pandas as pd\n",
    "import seaborn as sns\n",
    "from numpy.fft import *\n",
    "import pyarrow.parquet as pq\n",
    "import matplotlib.pyplot as plt\n",
    "%matplotlib inline\n",
    "sns.set_style(\"whitegrid\")"
   ]
  },
  {
   "cell_type": "code",
   "execution_count": null,
   "metadata": {},
   "outputs": [],
   "source": [
    "# aqui el filtrado, donde se utiliza el correspondiente a las librerias que ya estan adaptadas en C\n",
    "# para funcionar mas rapido\n",
    "def filter_signal(signal, limite=1e8):\n",
    "    # real fast fourier transform, asume data real, y explota la simetria\n",
    "    # ahorrandose calculo de la mitad de las señales\n",
    "    fourier = rfft(signal)\n",
    "    # d: sampling frecuency, corresponde a los 20ms / data total\n",
    "    frequencias = rfftfreq(signal.size, d=20e-3/signal.size)\n",
    "    # igualamos a 0 en lugar de eliminar, para manener la shape\n",
    "    fourier[frequencias > limite] = 0\n",
    "    return irfft(fourier)\n",
    "\n",
    "print('Para nuestros datos, el spacing entre frecuencias debe de ser:',20e-3/signals[0,0,:].size)"
   ]
  },
  {
   "cell_type": "code",
   "execution_count": null,
   "metadata": {},
   "outputs": [],
   "source": [
    "limite = 1e3\n",
    "filtered = filter_signal(signals[0, 0, :], limite)\n",
    "\n",
    "plt.figure(figsize=(15, 10))\n",
    "plt.plot(signals[0, 0, :], label='Original')\n",
    "plt.plot(filtered, label='Filtrada')\n",
    "plt.legend()\n",
    "plt.title(f\"FFT Denoising limite = {limite}\", size=15)\n",
    "plt.show()"
   ]
  }
 ],
 "metadata": {
  "kernelspec": {
   "display_name": "Python 3.9.13 ('base')",
   "language": "python",
   "name": "python3"
  },
  "language_info": {
   "name": "python",
   "version": "3.9.13"
  },
  "orig_nbformat": 4,
  "vscode": {
   "interpreter": {
    "hash": "ad2bdc8ecc057115af97d19610ffacc2b4e99fae6737bb82f5d7fb13d2f2c186"
   }
  }
 },
 "nbformat": 4,
 "nbformat_minor": 2
}
