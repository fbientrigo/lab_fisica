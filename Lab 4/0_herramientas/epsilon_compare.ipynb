{
 "cells": [
  {
   "cell_type": "markdown",
   "metadata": {},
   "source": [
    "# epsilon comparator\n",
    "Compara dos arreglos, itera un punto de un arreglo y comparalo con todos los demas\n",
    "donde nos entrega:\n",
    "\n",
    "- el punto mas cerquita\n",
    "- el error en ese punto (de manera que entreguemos el minimo)\n",
    "\n",
    "\n",
    "por primera vez en el analisis de `1021 Difraccion 2`"
   ]
  },
  {
   "cell_type": "code",
   "execution_count": null,
   "metadata": {},
   "outputs": [],
   "source": [
    "# Algoritmo de Similitud Aplicado\n",
    "# corre un for internamente\n",
    " # funcion para buscar match dentro de un porcentaje de error\n",
    "def epsilon_difference(x, datapoint, epsilon):\n",
    "    #print(\"Difference is:\", abs( 1 - x / datapoint))\n",
    "    if(abs(1 - x / datapoint) <= epsilon ):\n",
    "        #print(\"... match\")\n",
    "        return x, datapoint \n",
    "    else:\n",
    "        #print(\"No data matching conditions\")\n",
    "        return 0, 0\n",
    "\n",
    "def epsilon_loop(comparewith, data, epsilon=0.005, epsilonLimit=0.2):    \n",
    "    while (epsilon <= epsilonLimit):\n",
    "        #print(\"epsilon:\",epsilon)\n",
    "        Ndata = len(data)\n",
    "        x = np.zeros(Ndata)\n",
    "        dataR = np.zeros(Ndata)\n",
    "\n",
    "        for jth, datapoint in enumerate(data):\n",
    "            #print(datapoint)\n",
    "            x[jth], dataR[jth] = epsilon_difference(comparewith , datapoint, epsilon)\n",
    "\n",
    "        #Elimina todo el machine error\n",
    "        x = x[x > 1e-15] # sobre el machine error, 10e-16 se debe ver como 0\n",
    "        dataR = dataR[dataR > 1e-15]\n",
    "\n",
    "\n",
    "        if (len(x) > 0):\n",
    "            #print(x, dataR)\n",
    "            return x, dataR, epsilon\n",
    "        elif (epsilon <= epsilonLimit):\n",
    "            #print(epsilon)\n",
    "            epsilon += 0.005 \n",
    "        else:\n",
    "            break"
   ]
  }
 ],
 "metadata": {
  "kernelspec": {
   "display_name": "Python 3.9.13 ('base')",
   "language": "python",
   "name": "python3"
  },
  "language_info": {
   "name": "python",
   "version": "3.9.13"
  },
  "orig_nbformat": 4,
  "vscode": {
   "interpreter": {
    "hash": "ad2bdc8ecc057115af97d19610ffacc2b4e99fae6737bb82f5d7fb13d2f2c186"
   }
  }
 },
 "nbformat": 4,
 "nbformat_minor": 2
}
