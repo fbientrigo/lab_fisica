{
 "cells": [
  {
   "cell_type": "code",
   "execution_count": null,
   "metadata": {},
   "outputs": [],
   "source": [
    "def sample(signal, kernel_size):\n",
    "    \"\"\"\n",
    "    Toma una signal de hasta 3 dimensiones y con el kernel size, modifica la cantidad de mediciones\n",
    "    por ejemplo sample(Signal(333,3,8000), 8) -> NuevaSignal(333,3,1000) con datos promedidas\n",
    "    \"\"\"\n",
    "    # definimos la forma de como saldra la data, la cantidad de mediciones las modifica\n",
    "    mediciones = signal.shape[2]//kernel_size\n",
    "    sampled = np.zeros((signal.shape[0], signal.shape[1], mediciones))\n",
    "    for i in range(mediciones): # ejemplo para kernel size 100\n",
    "        intervalo_inferior = kernel_size * i  # 0, 100, 200, 300, ...\n",
    "        intervalo_superior = min(kernel_size * (i + 1), signal.shape[2]) # tomamos 100, 200, 300, ... maxData\n",
    "        # aqui es la parte importante, cortamos la data entre intervalo inferior-superior\n",
    "        # especificamos que en ese intervalo y axis queremos promediar np.mean(.., axis=2)\n",
    "        # de esa manera sampled[:,:,i] recibe ese intervalo\n",
    "        sampled[:, :, i] = np.mean(signal[:, :, intervalo_inferior:intervalo_superior], axis=2) \n",
    "    return sampled"
   ]
  },
  {
   "cell_type": "code",
   "execution_count": null,
   "metadata": {},
   "outputs": [],
   "source": [
    "# ejecutamos la catidad de kernel\n",
    "# a mayor kernel, mas smothing pero aumenta la perdida de data\n",
    "kernel_size = 20\n",
    "sampled = sample(signals, kernel_size)"
   ]
  }
 ],
 "metadata": {
  "kernelspec": {
   "display_name": "Python 3.9.13 ('base')",
   "language": "python",
   "name": "python3"
  },
  "language_info": {
   "name": "python",
   "version": "3.9.13"
  },
  "orig_nbformat": 4,
  "vscode": {
   "interpreter": {
    "hash": "ad2bdc8ecc057115af97d19610ffacc2b4e99fae6737bb82f5d7fb13d2f2c186"
   }
  }
 },
 "nbformat": 4,
 "nbformat_minor": 2
}
