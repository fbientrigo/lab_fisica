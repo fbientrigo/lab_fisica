{
 "cells": [
  {
   "cell_type": "markdown",
   "metadata": {},
   "source": [
    "# Hertz experimento\n",
    "\n",
    "\n",
    "![imagen](img_mont/circuit.png)\n",
    "\n",
    "- $V_{G1K} = 1.5 [V]$ es el voltaje entre el filamento y la grilla 1 usada para incitar a los electrones a moverse en cierta dirección\n",
    "- $K=1.9[V]$ el voltaje del filamento, asegurese de leer el limite dado por el fabricante para su lampara\n",
    "- $V_{G2K} = V[V]$ es el voltaje variado en el experimento, corresponde a la aceleración, a la energia que le entregamos\n",
    "- $V_{G2A}$ es el voltaje retardante, corresponde a un filtrado, de manera que los electrones que pierden energia al reaccionar con el argón no lleguen hasta el punto A a ser registrados como corriente\n",
    "- $A$ corresponde al amperimetro, donde registramos la llegada del electron mediante corriente\n"
   ]
  },
  {
   "cell_type": "code",
   "execution_count": 1,
   "metadata": {},
   "outputs": [
    {
     "data": {
      "text/html": [
       "<div>\n",
       "<style scoped>\n",
       "    .dataframe tbody tr th:only-of-type {\n",
       "        vertical-align: middle;\n",
       "    }\n",
       "\n",
       "    .dataframe tbody tr th {\n",
       "        vertical-align: top;\n",
       "    }\n",
       "\n",
       "    .dataframe thead th {\n",
       "        text-align: right;\n",
       "    }\n",
       "</style>\n",
       "<table border=\"1\" class=\"dataframe\">\n",
       "  <thead>\n",
       "    <tr style=\"text-align: right;\">\n",
       "      <th></th>\n",
       "      <th>VG2A [V]</th>\n",
       "      <th>VG2K [V]</th>\n",
       "      <th>IA [E-10 A]</th>\n",
       "      <th>Unnamed: 3</th>\n",
       "      <th>Unnamed: 4</th>\n",
       "      <th>Unnamed: 5</th>\n",
       "      <th>Unnamed: 6</th>\n",
       "      <th>Unnamed: 7</th>\n",
       "      <th>Unnamed: 8</th>\n",
       "      <th>Unnamed: 9</th>\n",
       "      <th>Unnamed: 10</th>\n",
       "      <th>Unnamed: 11</th>\n",
       "      <th>Unnamed: 12</th>\n",
       "    </tr>\n",
       "  </thead>\n",
       "  <tbody>\n",
       "    <tr>\n",
       "      <th>0</th>\n",
       "      <td>5</td>\n",
       "      <td>6.4</td>\n",
       "      <td>0</td>\n",
       "      <td>NaN</td>\n",
       "      <td>NaN</td>\n",
       "      <td>NaN</td>\n",
       "      <td>NaN</td>\n",
       "      <td>NaN</td>\n",
       "      <td>NaN</td>\n",
       "      <td>NaN</td>\n",
       "      <td>NaN</td>\n",
       "      <td>NaN</td>\n",
       "      <td>NaN</td>\n",
       "    </tr>\n",
       "    <tr>\n",
       "      <th>1</th>\n",
       "      <td>5</td>\n",
       "      <td>7.0</td>\n",
       "      <td>13</td>\n",
       "      <td>NaN</td>\n",
       "      <td>NaN</td>\n",
       "      <td>NaN</td>\n",
       "      <td>NaN</td>\n",
       "      <td>NaN</td>\n",
       "      <td>NaN</td>\n",
       "      <td>NaN</td>\n",
       "      <td>NaN</td>\n",
       "      <td>NaN</td>\n",
       "      <td>NaN</td>\n",
       "    </tr>\n",
       "    <tr>\n",
       "      <th>2</th>\n",
       "      <td>5</td>\n",
       "      <td>8.0</td>\n",
       "      <td>63</td>\n",
       "      <td>NaN</td>\n",
       "      <td>NaN</td>\n",
       "      <td>NaN</td>\n",
       "      <td>NaN</td>\n",
       "      <td>NaN</td>\n",
       "      <td>NaN</td>\n",
       "      <td>NaN</td>\n",
       "      <td>NaN</td>\n",
       "      <td>NaN</td>\n",
       "      <td>NaN</td>\n",
       "    </tr>\n",
       "    <tr>\n",
       "      <th>3</th>\n",
       "      <td>5</td>\n",
       "      <td>9.0</td>\n",
       "      <td>100</td>\n",
       "      <td>NaN</td>\n",
       "      <td>NaN</td>\n",
       "      <td>NaN</td>\n",
       "      <td>NaN</td>\n",
       "      <td>NaN</td>\n",
       "      <td>NaN</td>\n",
       "      <td>NaN</td>\n",
       "      <td>NaN</td>\n",
       "      <td>NaN</td>\n",
       "      <td>NaN</td>\n",
       "    </tr>\n",
       "    <tr>\n",
       "      <th>4</th>\n",
       "      <td>5</td>\n",
       "      <td>10.0</td>\n",
       "      <td>118</td>\n",
       "      <td>NaN</td>\n",
       "      <td>NaN</td>\n",
       "      <td>NaN</td>\n",
       "      <td>NaN</td>\n",
       "      <td>NaN</td>\n",
       "      <td>NaN</td>\n",
       "      <td>NaN</td>\n",
       "      <td>NaN</td>\n",
       "      <td>NaN</td>\n",
       "      <td>NaN</td>\n",
       "    </tr>\n",
       "    <tr>\n",
       "      <th>...</th>\n",
       "      <td>...</td>\n",
       "      <td>...</td>\n",
       "      <td>...</td>\n",
       "      <td>...</td>\n",
       "      <td>...</td>\n",
       "      <td>...</td>\n",
       "      <td>...</td>\n",
       "      <td>...</td>\n",
       "      <td>...</td>\n",
       "      <td>...</td>\n",
       "      <td>...</td>\n",
       "      <td>...</td>\n",
       "      <td>...</td>\n",
       "    </tr>\n",
       "    <tr>\n",
       "      <th>57</th>\n",
       "      <td>5</td>\n",
       "      <td>75.0</td>\n",
       "      <td>389</td>\n",
       "      <td>NaN</td>\n",
       "      <td>NaN</td>\n",
       "      <td>NaN</td>\n",
       "      <td>NaN</td>\n",
       "      <td>NaN</td>\n",
       "      <td>NaN</td>\n",
       "      <td>NaN</td>\n",
       "      <td>NaN</td>\n",
       "      <td>NaN</td>\n",
       "      <td>NaN</td>\n",
       "    </tr>\n",
       "    <tr>\n",
       "      <th>58</th>\n",
       "      <td>5</td>\n",
       "      <td>76.0</td>\n",
       "      <td>391</td>\n",
       "      <td>NaN</td>\n",
       "      <td>NaN</td>\n",
       "      <td>NaN</td>\n",
       "      <td>NaN</td>\n",
       "      <td>multiplos</td>\n",
       "      <td>NaN</td>\n",
       "      <td>NaN</td>\n",
       "      <td>NaN</td>\n",
       "      <td>NaN</td>\n",
       "      <td>Promedio</td>\n",
       "    </tr>\n",
       "    <tr>\n",
       "      <th>59</th>\n",
       "      <td>5</td>\n",
       "      <td>78.0</td>\n",
       "      <td>359</td>\n",
       "      <td>NaN</td>\n",
       "      <td>NaN</td>\n",
       "      <td>NaN</td>\n",
       "      <td>n=1</td>\n",
       "      <td>12</td>\n",
       "      <td>12.0</td>\n",
       "      <td>11.5</td>\n",
       "      <td>11.5</td>\n",
       "      <td>11.5</td>\n",
       "      <td>11.7</td>\n",
       "    </tr>\n",
       "    <tr>\n",
       "      <th>60</th>\n",
       "      <td>5</td>\n",
       "      <td>79.0</td>\n",
       "      <td>326</td>\n",
       "      <td>NaN</td>\n",
       "      <td>NaN</td>\n",
       "      <td>NaN</td>\n",
       "      <td>n=2</td>\n",
       "      <td>23.5</td>\n",
       "      <td>23.0</td>\n",
       "      <td>23.0</td>\n",
       "      <td>NaN</td>\n",
       "      <td>NaN</td>\n",
       "      <td>11.583333</td>\n",
       "    </tr>\n",
       "    <tr>\n",
       "      <th>61</th>\n",
       "      <td>5</td>\n",
       "      <td>80.0</td>\n",
       "      <td>287</td>\n",
       "      <td>NaN</td>\n",
       "      <td>NaN</td>\n",
       "      <td>NaN</td>\n",
       "      <td>n=3</td>\n",
       "      <td>35</td>\n",
       "      <td>33.5</td>\n",
       "      <td>NaN</td>\n",
       "      <td>NaN</td>\n",
       "      <td>NaN</td>\n",
       "      <td>11.416667</td>\n",
       "    </tr>\n",
       "  </tbody>\n",
       "</table>\n",
       "<p>62 rows × 13 columns</p>\n",
       "</div>"
      ],
      "text/plain": [
       "    VG2A [V]  VG2K [V]  IA [E-10 A]  Unnamed: 3  Unnamed: 4  Unnamed: 5  \\\n",
       "0          5       6.4            0         NaN         NaN         NaN   \n",
       "1          5       7.0           13         NaN         NaN         NaN   \n",
       "2          5       8.0           63         NaN         NaN         NaN   \n",
       "3          5       9.0          100         NaN         NaN         NaN   \n",
       "4          5      10.0          118         NaN         NaN         NaN   \n",
       "..       ...       ...          ...         ...         ...         ...   \n",
       "57         5      75.0          389         NaN         NaN         NaN   \n",
       "58         5      76.0          391         NaN         NaN         NaN   \n",
       "59         5      78.0          359         NaN         NaN         NaN   \n",
       "60         5      79.0          326         NaN         NaN         NaN   \n",
       "61         5      80.0          287         NaN         NaN         NaN   \n",
       "\n",
       "   Unnamed: 6 Unnamed: 7  Unnamed: 8  Unnamed: 9  Unnamed: 10  Unnamed: 11  \\\n",
       "0         NaN        NaN         NaN         NaN          NaN          NaN   \n",
       "1         NaN        NaN         NaN         NaN          NaN          NaN   \n",
       "2         NaN        NaN         NaN         NaN          NaN          NaN   \n",
       "3         NaN        NaN         NaN         NaN          NaN          NaN   \n",
       "4         NaN        NaN         NaN         NaN          NaN          NaN   \n",
       "..        ...        ...         ...         ...          ...          ...   \n",
       "57        NaN        NaN         NaN         NaN          NaN          NaN   \n",
       "58        NaN  multiplos         NaN         NaN          NaN          NaN   \n",
       "59        n=1         12        12.0        11.5         11.5         11.5   \n",
       "60        n=2       23.5        23.0        23.0          NaN          NaN   \n",
       "61        n=3         35        33.5         NaN          NaN          NaN   \n",
       "\n",
       "   Unnamed: 12  \n",
       "0          NaN  \n",
       "1          NaN  \n",
       "2          NaN  \n",
       "3          NaN  \n",
       "4          NaN  \n",
       "..         ...  \n",
       "57         NaN  \n",
       "58    Promedio  \n",
       "59        11.7  \n",
       "60   11.583333  \n",
       "61   11.416667  \n",
       "\n",
       "[62 rows x 13 columns]"
      ]
     },
     "execution_count": 1,
     "metadata": {},
     "output_type": "execute_result"
    }
   ],
   "source": [
    "import numpy as np\n",
    "import pandas as pd\n",
    "\n",
    "import matplotlib.pyplot as plt\n",
    "%matplotlib inline\n",
    "\n",
    "df1 = pd.read_excel(\"DataHertz.xlsx\", sheet_name=\"Sheet2\")\n",
    "df1"
   ]
  },
  {
   "cell_type": "code",
   "execution_count": 3,
   "metadata": {},
   "outputs": [
    {
     "data": {
      "text/html": [
       "<div>\n",
       "<style scoped>\n",
       "    .dataframe tbody tr th:only-of-type {\n",
       "        vertical-align: middle;\n",
       "    }\n",
       "\n",
       "    .dataframe tbody tr th {\n",
       "        vertical-align: top;\n",
       "    }\n",
       "\n",
       "    .dataframe thead th {\n",
       "        text-align: right;\n",
       "    }\n",
       "</style>\n",
       "<table border=\"1\" class=\"dataframe\">\n",
       "  <thead>\n",
       "    <tr style=\"text-align: right;\">\n",
       "      <th></th>\n",
       "      <th>V</th>\n",
       "      <th>I</th>\n",
       "    </tr>\n",
       "  </thead>\n",
       "  <tbody>\n",
       "    <tr>\n",
       "      <th>0</th>\n",
       "      <td>6.4</td>\n",
       "      <td>0</td>\n",
       "    </tr>\n",
       "    <tr>\n",
       "      <th>1</th>\n",
       "      <td>7.0</td>\n",
       "      <td>13</td>\n",
       "    </tr>\n",
       "    <tr>\n",
       "      <th>2</th>\n",
       "      <td>8.0</td>\n",
       "      <td>63</td>\n",
       "    </tr>\n",
       "    <tr>\n",
       "      <th>3</th>\n",
       "      <td>9.0</td>\n",
       "      <td>100</td>\n",
       "    </tr>\n",
       "    <tr>\n",
       "      <th>4</th>\n",
       "      <td>10.0</td>\n",
       "      <td>118</td>\n",
       "    </tr>\n",
       "    <tr>\n",
       "      <th>...</th>\n",
       "      <td>...</td>\n",
       "      <td>...</td>\n",
       "    </tr>\n",
       "    <tr>\n",
       "      <th>57</th>\n",
       "      <td>75.0</td>\n",
       "      <td>389</td>\n",
       "    </tr>\n",
       "    <tr>\n",
       "      <th>58</th>\n",
       "      <td>76.0</td>\n",
       "      <td>391</td>\n",
       "    </tr>\n",
       "    <tr>\n",
       "      <th>59</th>\n",
       "      <td>78.0</td>\n",
       "      <td>359</td>\n",
       "    </tr>\n",
       "    <tr>\n",
       "      <th>60</th>\n",
       "      <td>79.0</td>\n",
       "      <td>326</td>\n",
       "    </tr>\n",
       "    <tr>\n",
       "      <th>61</th>\n",
       "      <td>80.0</td>\n",
       "      <td>287</td>\n",
       "    </tr>\n",
       "  </tbody>\n",
       "</table>\n",
       "<p>62 rows × 2 columns</p>\n",
       "</div>"
      ],
      "text/plain": [
       "       V    I\n",
       "0    6.4    0\n",
       "1    7.0   13\n",
       "2    8.0   63\n",
       "3    9.0  100\n",
       "4   10.0  118\n",
       "..   ...  ...\n",
       "57  75.0  389\n",
       "58  76.0  391\n",
       "59  78.0  359\n",
       "60  79.0  326\n",
       "61  80.0  287\n",
       "\n",
       "[62 rows x 2 columns]"
      ]
     },
     "execution_count": 3,
     "metadata": {},
     "output_type": "execute_result"
    }
   ],
   "source": [
    "# notese que aqui estan las unidades\n",
    "df1 = df1[['VG2K [V]','IA [E-10 A]']]\n",
    "df1 =df1.rename(columns={'VG2K [V]':'V','IA [E-10 A]':'I'})\n",
    "# df1.to_csv('hertz_processed.csv')\n",
    "df1"
   ]
  },
  {
   "cell_type": "code",
   "execution_count": 9,
   "metadata": {},
   "outputs": [
    {
     "data": {
      "image/png": "[encoded data removed]",
      "text/plain": [
       "<Figure size 640x480 with 1 Axes>"
      ]
     },
     "metadata": {},
     "output_type": "display_data"
    }
   ],
   "source": [
    "df1.plot(kind='scatter', y='I', x='V')\n",
    "plt.xlabel('V [Volts]')\n",
    "plt.ylabel(r'I [$\\mu A$]')\n",
    "plt.title('Data Experimento Franck-Hertz')\n",
    "plt.savefig('plots/data_hertz.png', dpi=300)\n",
    "plt.show()"
   ]
  },
  {
   "cell_type": "code",
   "execution_count": 10,
   "metadata": {},
   "outputs": [
    {
     "data": {
      "text/html": [
       "<div>\n",
       "<style scoped>\n",
       "    .dataframe tbody tr th:only-of-type {\n",
       "        vertical-align: middle;\n",
       "    }\n",
       "\n",
       "    .dataframe tbody tr th {\n",
       "        vertical-align: top;\n",
       "    }\n",
       "\n",
       "    .dataframe thead th {\n",
       "        text-align: right;\n",
       "    }\n",
       "</style>\n",
       "<table border=\"1\" class=\"dataframe\">\n",
       "  <thead>\n",
       "    <tr style=\"text-align: right;\">\n",
       "      <th></th>\n",
       "      <th>V</th>\n",
       "      <th>I</th>\n",
       "      <th>minV</th>\n",
       "      <th>maxV</th>\n",
       "    </tr>\n",
       "  </thead>\n",
       "  <tbody>\n",
       "    <tr>\n",
       "      <th>0</th>\n",
       "      <td>6.4</td>\n",
       "      <td>0</td>\n",
       "      <td>NaN</td>\n",
       "      <td>NaN</td>\n",
       "    </tr>\n",
       "    <tr>\n",
       "      <th>1</th>\n",
       "      <td>7.0</td>\n",
       "      <td>13</td>\n",
       "      <td>NaN</td>\n",
       "      <td>NaN</td>\n",
       "    </tr>\n",
       "    <tr>\n",
       "      <th>2</th>\n",
       "      <td>8.0</td>\n",
       "      <td>63</td>\n",
       "      <td>NaN</td>\n",
       "      <td>NaN</td>\n",
       "    </tr>\n",
       "    <tr>\n",
       "      <th>3</th>\n",
       "      <td>9.0</td>\n",
       "      <td>100</td>\n",
       "      <td>NaN</td>\n",
       "      <td>NaN</td>\n",
       "    </tr>\n",
       "    <tr>\n",
       "      <th>4</th>\n",
       "      <td>10.0</td>\n",
       "      <td>118</td>\n",
       "      <td>NaN</td>\n",
       "      <td>NaN</td>\n",
       "    </tr>\n",
       "    <tr>\n",
       "      <th>...</th>\n",
       "      <td>...</td>\n",
       "      <td>...</td>\n",
       "      <td>...</td>\n",
       "      <td>...</td>\n",
       "    </tr>\n",
       "    <tr>\n",
       "      <th>57</th>\n",
       "      <td>75.0</td>\n",
       "      <td>389</td>\n",
       "      <td>NaN</td>\n",
       "      <td>NaN</td>\n",
       "    </tr>\n",
       "    <tr>\n",
       "      <th>58</th>\n",
       "      <td>76.0</td>\n",
       "      <td>391</td>\n",
       "      <td>NaN</td>\n",
       "      <td>76.0</td>\n",
       "    </tr>\n",
       "    <tr>\n",
       "      <th>59</th>\n",
       "      <td>78.0</td>\n",
       "      <td>359</td>\n",
       "      <td>NaN</td>\n",
       "      <td>NaN</td>\n",
       "    </tr>\n",
       "    <tr>\n",
       "      <th>60</th>\n",
       "      <td>79.0</td>\n",
       "      <td>326</td>\n",
       "      <td>NaN</td>\n",
       "      <td>NaN</td>\n",
       "    </tr>\n",
       "    <tr>\n",
       "      <th>61</th>\n",
       "      <td>80.0</td>\n",
       "      <td>287</td>\n",
       "      <td>NaN</td>\n",
       "      <td>NaN</td>\n",
       "    </tr>\n",
       "  </tbody>\n",
       "</table>\n",
       "<p>62 rows × 4 columns</p>\n",
       "</div>"
      ],
      "text/plain": [
       "       V    I  minV  maxV\n",
       "0    6.4    0   NaN   NaN\n",
       "1    7.0   13   NaN   NaN\n",
       "2    8.0   63   NaN   NaN\n",
       "3    9.0  100   NaN   NaN\n",
       "4   10.0  118   NaN   NaN\n",
       "..   ...  ...   ...   ...\n",
       "57  75.0  389   NaN   NaN\n",
       "58  76.0  391   NaN  76.0\n",
       "59  78.0  359   NaN   NaN\n",
       "60  79.0  326   NaN   NaN\n",
       "61  80.0  287   NaN   NaN\n",
       "\n",
       "[62 rows x 4 columns]"
      ]
     },
     "execution_count": 10,
     "metadata": {},
     "output_type": "execute_result"
    }
   ],
   "source": [
    "df1['minV'] = df1.V[(df1.I.shift(1) >= df1.I) & (df1.I.shift(-1) >= df1.I)]\n",
    "df1['maxV'] = df1.V[(df1.I.shift(1) < df1.I) & (df1.I.shift(-1) < df1.I)]\n",
    "\n",
    "df1"
   ]
  },
  {
   "cell_type": "code",
   "execution_count": 11,
   "metadata": {},
   "outputs": [
    {
     "name": "stdout",
     "output_type": "stream",
     "text": [
      "[(22.0, 114), (34.0, 103), (45.0, 119), (57.0, 144), (69.0, 200)]\n",
      "[(18.0, 160), (29.0, 201), (40.0, 255), (52.0, 307), (64.0, 352), (76.0, 391)]\n"
     ]
    }
   ],
   "source": [
    "minV = df1['minV'].dropna()\n",
    "minI = df1.I[df1['V'].isin( minV )]\n",
    "\n",
    "print( list(zip(minV, minI)) )\n",
    "\n",
    "maxV = df1['maxV'].dropna()\n",
    "maxI = df1.I[df1['V'].isin( maxV )]\n",
    "\n",
    "print( list(zip(maxV, maxI)) )"
   ]
  },
  {
   "cell_type": "code",
   "execution_count": 14,
   "metadata": {},
   "outputs": [
    {
     "data": {
      "image/png": "[encoded data removed]",
      "text/plain": [
       "<Figure size 640x480 with 1 Axes>"
      ]
     },
     "metadata": {},
     "output_type": "display_data"
    }
   ],
   "source": [
    "plt.title('Voltaje vs Corriente Maximos y Minimos')\n",
    "plt.scatter(data=df1, y='I', x='V', label='data')\n",
    "plt.scatter(minV  , minI, c='r',label='minimos')\n",
    "plt.scatter(maxV, maxI, c='g',label='maximos')\n",
    "plt.xlabel('V [Volts]')\n",
    "plt.ylabel(r'I [$\\mu$Amperes]')\n",
    "plt.legend()\n",
    "plt.savefig('plots/voltaje_vs_corriente_hertz.png',dpi=300)\n",
    "plt.show()"
   ]
  },
  {
   "cell_type": "markdown",
   "metadata": {},
   "source": [
    "### los puntos de importancia\n",
    "Los voltajes medidos son los voltajes de aceleración $V_{G2K}$\n",
    "\n",
    "cuando los electrones alcanzan una energia $e V_0$ entonces pueden transmitir su energia cinetica a una exitación discreta del atomo de la lampara; luego esa energia se vuelve a presentar en multiplos $n e V_0$\n",
    "\n",
    "\n",
    "- elijase los minimos o maximos\n",
    "- tomesé la diferencia de voltaje entre los puntos\n",
    "- la diferencia de voltaje\n",
    "\n",
    "#### diferencias fijas de drops\n",
    "demostrar que hay diferencias fijas entre los peaks, demuestra que el argón tiene niveles de exitacion que absorben energia en cantidades cuantizadas"
   ]
  },
  {
   "cell_type": "code",
   "execution_count": 50,
   "metadata": {},
   "outputs": [
    {
     "data": {
      "text/plain": [
       "9     18.0\n",
       "17    29.0\n",
       "28    40.0\n",
       "40    52.0\n",
       "49    64.0\n",
       "58    76.0\n",
       "Name: maxV, dtype: float64"
      ]
     },
     "execution_count": 50,
     "metadata": {},
     "output_type": "execute_result"
    }
   ],
   "source": [
    "# la energia base e V0\n",
    "maxV "
   ]
  },
  {
   "cell_type": "code",
   "execution_count": 62,
   "metadata": {},
   "outputs": [
    {
     "data": {
      "text/plain": [
       "array([11., 11., 12., 12., 12.])"
      ]
     },
     "execution_count": 62,
     "metadata": {},
     "output_type": "execute_result"
    }
   ],
   "source": [
    "# 29-18, 40-29, 52-40, ...\n",
    "DeltaVmax = maxV[1::].values - maxV[:-1:].values\n",
    "DeltaVmax"
   ]
  },
  {
   "cell_type": "code",
   "execution_count": 63,
   "metadata": {},
   "outputs": [
    {
     "data": {
      "text/plain": [
       "array([12., 11., 12., 12.])"
      ]
     },
     "execution_count": 63,
     "metadata": {},
     "output_type": "execute_result"
    }
   ],
   "source": [
    "# mientras que para los minimos\n",
    "DeltaVmin = minV[1::].values - minV[:-1:].values\n",
    "DeltaVmin"
   ]
  },
  {
   "cell_type": "code",
   "execution_count": 69,
   "metadata": {},
   "outputs": [
    {
     "data": {
      "text/plain": [
       "array([11., 11., 12., 12., 12., 12., 11., 12., 12.])"
      ]
     },
     "execution_count": 69,
     "metadata": {},
     "output_type": "execute_result"
    }
   ],
   "source": [
    "V0_series = np.append(DeltaVmax, DeltaVmin)\n",
    "# todas las mediciones de la energia base:\n",
    "V0_series"
   ]
  },
  {
   "cell_type": "code",
   "execution_count": null,
   "metadata": {},
   "outputs": [],
   "source": [
    "# boxplot\n"
   ]
  },
  {
   "cell_type": "code",
   "execution_count": 79,
   "metadata": {},
   "outputs": [
    {
     "name": "stdout",
     "output_type": "stream",
     "text": [
      "11.666666666666666\n"
     ]
    }
   ],
   "source": [
    "# estimador \n",
    "V0 = np.mean(V0_series)\n",
    "print(V0)"
   ]
  },
  {
   "cell_type": "markdown",
   "metadata": {},
   "source": [
    "La linea de emisión para la ampolleta es de\n",
    "$$\n",
    "\\lambda = 108.1 \\times 10^{-9} [m]\n",
    "$$\n",
    "\n",
    "entonces ocurre que:\n",
    "$$\n",
    "E = e V_0 = h f = h c / \\lambda\n",
    "$$\n",
    "\n",
    "por tanto podemos despejar la constante de placnk y la velocidad de la luz\n",
    "$$\n",
    "hc = \\lambda e V_0\n",
    "$$"
   ]
  },
  {
   "cell_type": "code",
   "execution_count": 92,
   "metadata": {},
   "outputs": [
    {
     "data": {
      "text/plain": [
       "2.0206117649129998"
      ]
     },
     "execution_count": 92,
     "metadata": {},
     "output_type": "execute_result"
    }
   ],
   "source": [
    "# primero encontramos hc\n",
    "\n",
    "wavelength = 108.1 # 10^-9 [m]\n",
    "#c = 3 # 10^8 [m/s]\n",
    "e = 1.602176634 # 10^-19 [J/V]\n",
    "\n",
    "#stimador\n",
    "V0 # [V]\n",
    "\n",
    "\n",
    "hc = wavelength * e  * V0  # 10^(-9-19) = 10^-28[J m]\n",
    " \n",
    "hc = hc / 1000  # 10^{-25} [Jm]\n",
    "hc\n",
    "\n",
    "# el valor moderno es de 1.9845586 * 10^{-25} [Jm]"
   ]
  },
  {
   "cell_type": "code",
   "execution_count": 93,
   "metadata": {},
   "outputs": [
    {
     "data": {
      "text/plain": [
       "1.8166843202815888"
      ]
     },
     "execution_count": 93,
     "metadata": {},
     "output_type": "execute_result"
    }
   ],
   "source": [
    "hcmodern =  1.9845586 \n",
    "100*(hc - hcmodern)/hcmodern\n",
    "# error de 1.81%"
   ]
  },
  {
   "cell_type": "code",
   "execution_count": 83,
   "metadata": {},
   "outputs": [
    {
     "data": {
      "text/plain": [
       "6.735372549709999"
      ]
     },
     "execution_count": 83,
     "metadata": {},
     "output_type": "execute_result"
    }
   ],
   "source": [
    "wavelength = 108.1 # 10^-9 [m]\n",
    "c = 3 # 10^8 [m/s]\n",
    "e = 1.602176634 # 10^-19 [J/V]\n",
    "\n",
    "#stimador\n",
    "V0 # [V]\n",
    "\n",
    "h = wavelength * e  * V0 / c # 10^-36 [J s]\n",
    "h = h / 100 # 10^{-34} [Js]\n",
    "h\n",
    "\n",
    "# modern value of h = 6.62607 10^{-34} [Js]"
   ]
  },
  {
   "cell_type": "code",
   "execution_count": 86,
   "metadata": {},
   "outputs": [
    {
     "data": {
      "text/plain": [
       "1.649581082536515"
      ]
     },
     "execution_count": 86,
     "metadata": {},
     "output_type": "execute_result"
    }
   ],
   "source": [
    "realh = 6.62607015\n",
    "\n",
    "100*(h - realh)/realh\n",
    "# 1.6 % de error"
   ]
  },
  {
   "cell_type": "code",
   "execution_count": null,
   "metadata": {},
   "outputs": [],
   "source": []
  },
  {
   "attachments": {},
   "cell_type": "markdown",
   "metadata": {},
   "source": [
    "# Fast Fourier Transform\n",
    "La transformada de Fourier discreta aplicada a estos datos nos entrega informacion sobre las oscilaciones presentes"
   ]
  },
  {
   "cell_type": "code",
   "execution_count": 1,
   "metadata": {},
   "outputs": [],
   "source": [
    "import numpy as np\n",
    "import pandas as pd\n",
    "\n",
    "import matplotlib.pyplot as plt\n",
    "%matplotlib inline\n",
    "\n",
    "df1 = pd.read_excel(\"DataHertz.xlsx\", sheet_name=\"Sheet2\")\n",
    "# notese que aqui estan las unidades\n",
    "df1 = df1[['VG2K [V]','IA [E-10 A]']]\n",
    "df1 =df1.rename(columns={'VG2K [V]':'V','IA [E-10 A]':'I'})\n"
   ]
  },
  {
   "cell_type": "code",
   "execution_count": 2,
   "metadata": {},
   "outputs": [
    {
     "data": {
      "text/plain": [
       "array([13156.           +0.j        ,    87.3184989 +2424.20696102j,\n",
       "        -499.28872558+1230.09595984j,  -350.99381198 +814.66695258j,\n",
       "        -300.84090689+1114.83570787j])"
      ]
     },
     "execution_count": 2,
     "metadata": {},
     "output_type": "execute_result"
    }
   ],
   "source": [
    "x = df1.V.values\n",
    "y = df1.I.values\n",
    "\n",
    "ck = np.fft.fft(y)\n",
    "#y_rec = np.fft.irfft(ck)\n",
    "ck[:5]"
   ]
  },
  {
   "cell_type": "code",
   "execution_count": 7,
   "metadata": {},
   "outputs": [
    {
     "name": "stdout",
     "output_type": "stream",
     "text": [
      "max 80.0\n",
      "min 6.4\n",
      "T: 73.6\n",
      "sampling rate o d: 0.8423913043478262\n"
     ]
    }
   ],
   "source": [
    "# cual es mi intervalo de datos\n",
    "print('max',np.max(x))\n",
    "print('min',np.min(x))\n",
    "T = np.max(x) - np.min(x)\n",
    "print('T:', T)\n",
    "\n",
    "print('sampling rate o d:', N/T)"
   ]
  },
  {
   "cell_type": "code",
   "execution_count": 56,
   "metadata": {},
   "outputs": [
    {
     "name": "stdout",
     "output_type": "stream",
     "text": [
      "sampling rate: 7.957747154594767\n",
      "frecuencia nyquist (max que podemos leer): 3.9788735772973833\n"
     ]
    },
    {
     "data": {
      "text/plain": [
       "Text(0.5, 1.0, 'Espectro de Frecuencia')"
      ]
     },
     "execution_count": 56,
     "metadata": {},
     "output_type": "execute_result"
    },
    {
     "data": {
      "image/png": "[encoded data removed]",
      "text/plain": [
       "<Figure size 640x480 with 1 Axes>"
      ]
     },
     "metadata": {},
     "output_type": "display_data"
    }
   ],
   "source": [
    "\n",
    "# y = 1*np.sin(2*np.pi* 3*x) + 2*np.cos(2*np.pi* 5*x)\n",
    "t = np.linspace(0, 2* np.pi, 50)\n",
    "T = np.max(t) - np.min(t)\n",
    "\n",
    "f = 1 / T\n",
    "# y = np.sin(2*np.pi*8*x) \n",
    "# y = np.cos(8*x) \n",
    "y = np.exp(1j*2*np.pi* 3 * t)\n",
    "\n",
    "# datos\n",
    "data = y\n",
    "N = len(y) \n",
    "\n",
    "print('sampling rate:', N/T)\n",
    "print('frecuencia nyquist (max que podemos leer):', N/2/T)\n",
    "\n",
    "# fourier transform\n",
    "ft = np.fft.fft(data)\n",
    "mgft = abs(ft) / N\n",
    "\n",
    "fVals = np.fft.fftfreq( len(data) ) * N / T\n",
    "\n",
    "# hasta la 2da \n",
    "plt.plot(fVals[:int(len(mgft)/2)], mgft[:int(len(mgft)/2)], label='Hz')\n",
    "\n",
    "plt.legend()\n",
    "plt.title('Espectro de Frecuencia')\n"
   ]
  },
  {
   "cell_type": "code",
   "execution_count": null,
   "metadata": {},
   "outputs": [],
   "source": []
  }
 ],
 "metadata": {
  "kernelspec": {
   "display_name": "Python 3.9.13 ('base')",
   "language": "python",
   "name": "python3"
  },
  "language_info": {
   "codemirror_mode": {
    "name": "ipython",
    "version": 3
   },
   "file_extension": ".py",
   "mimetype": "text/x-python",
   "name": "python",
   "nbconvert_exporter": "python",
   "pygments_lexer": "ipython3",
   "version": "3.9.13"
  },
  "orig_nbformat": 4,
  "vscode": {
   "interpreter": {
    "hash": "ad2bdc8ecc057115af97d19610ffacc2b4e99fae6737bb82f5d7fb13d2f2c186"
   }
  }
 },
 "nbformat": 4,
 "nbformat_minor": 2
}
